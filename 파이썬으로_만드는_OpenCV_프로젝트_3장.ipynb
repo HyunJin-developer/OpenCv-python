{
  "nbformat": 4,
  "nbformat_minor": 0,
  "metadata": {
    "colab": {
      "name": "파이썬으로 만드는 OpenCV 프로젝트_3장",
      "provenance": [],
      "collapsed_sections": []
    },
    "kernelspec": {
      "name": "python3",
      "display_name": "Python 3"
    }
  },
  "cells": [
    {
      "cell_type": "markdown",
      "metadata": {
        "id": "W45I_c3uihQd"
      },
      "source": [
        "# Chap 3. NumPy와 Matplotlib\r\n",
        "\r\n",
        "\r\n"
      ]
    },
    {
      "cell_type": "markdown",
      "metadata": {
        "id": "SXud-4WC9sxU"
      },
      "source": [
        "##3.1 NumPy\r\n",
        " * Numpy 공식 웹사이트: http://www.numpy.org/\r\n",
        " * Numpy 개발자 참조 문서: http:/docs.scipy.org/doc/numpy/genindex.html"
      ]
    },
    {
      "cell_type": "markdown",
      "metadata": {
        "id": "HUNxURen9s8z"
      },
      "source": [
        "### 3.1.1 이미지와 NumPy\r\n",
        "지금까지 계속 써왔던 이미지나 동영상을 읽어들이는 함수 cv2.imread()는 Numpy 배열을 반환한다. 즉 Numpy에 대해 잘 알지 못하면 파이썬 언어로 OpenCV를 사용하는게 힘들어진다는 뜻이다.\r\n",
        "Numpy 배열에서 정보를 얻는 기본 속성은 다음과 같다.\r\n",
        "* ndim : 차원(축)의 수\r\n",
        "* shape : 각 차원의 크기(튜플)\r\n",
        "* size : 전체 요소의 개수, shape의 각 항목의 곱\r\n",
        "* dtype : 요소의 데이터 타입\r\n",
        "* itemsize : 각 요소의 바이트 크기\r\n",
        "\r\n",
        "다음 코드는 파이썬 대화형 콘솔에서 OpenCV로 읽어들인 500 x 500 픽셀 이미지 정보를 담은 NumPy 배열의 속성 정보를 출력한다. "
      ]
    },
    {
      "cell_type": "code",
      "metadata": {
        "colab": {
          "base_uri": "https://localhost:8080/"
        },
        "id": "Sftst2C-iYSp",
        "outputId": "d2b7f1cc-bce4-4582-d133-b20cd274e3ff"
      },
      "source": [
        "import cv2\r\n",
        "img = cv2.imread(\"/content/drive/MyDrive/파이썬을 이용한 open CV/Data_Folder/Save_picture.jpg\")\r\n",
        "type(img)"
      ],
      "execution_count": null,
      "outputs": [
        {
          "output_type": "execute_result",
          "data": {
            "text/plain": [
              "numpy.ndarray"
            ]
          },
          "metadata": {
            "tags": []
          },
          "execution_count": 3
        }
      ]
    },
    {
      "cell_type": "markdown",
      "metadata": {
        "id": "OsSFSu9doo29"
      },
      "source": [
        "ndarray는 **N-Dimensional Array**의 약자로 N차원 배열, 즉 다차원 배열을 의미한다. \r\n",
        "OpenCV는 기본적으로 이미지를 3차원 배열, 즉 '행 X 열 X 채널'로 표현한다. 행과 열은 이미지의 크기인 높이와 폭만큼의 길이를 갖고 채널은 컬러인 경우 파랑, 초록, 빨강 3개의 길이를 갖는다. 따라서 일반적인 이미지를 읽었을 때 3차원 배열은 '**높이 X 폭 X 3(Colors)**'의 형태이다."
      ]
    },
    {
      "cell_type": "code",
      "metadata": {
        "id": "kE1pmQitnrfx",
        "colab": {
          "base_uri": "https://localhost:8080/"
        },
        "outputId": "5223b64d-48ae-427b-f1b7-e8086957e8e0"
      },
      "source": [
        "print(img.ndim)\r\n",
        "print(img.shape)\r\n",
        "print(img.size)       #전체 요소의 개수(각 차원의 길이의 곱)"
      ],
      "execution_count": null,
      "outputs": [
        {
          "output_type": "stream",
          "text": [
            "3\n",
            "(240, 320, 3)\n",
            "230400\n"
          ],
          "name": "stdout"
        }
      ]
    },
    {
      "cell_type": "markdown",
      "metadata": {
        "id": "dFaYe8tuqTyB"
      },
      "source": [
        "파이썬 언어는 데이터 타입이나 데이터 크기를 따로 지정하지 않지만, 수많은 데이터를 처리하는 NumPy 배열은 데이터 타입을 명시하는 것이 효과적일 수밖에 없다. 이미지 픽셀 데이터는 음수나 소수점을 갖는 경우가 없고 값의 크기도 최대 255 이므로 부호 없는 8비트이다. 따라서 데이터 타입으로 **uint8**를 사용한다. "
      ]
    },
    {
      "cell_type": "code",
      "metadata": {
        "colab": {
          "base_uri": "https://localhost:8080/"
        },
        "id": "OFBeB-dcqC82",
        "outputId": "19b4d714-af64-4185-f701-1c2ddf2b52dc"
      },
      "source": [
        "print(img.dtype)        #usigned int형 8bits\r\n",
        "print(img.itemsize)     #byte로 반환"
      ],
      "execution_count": null,
      "outputs": [
        {
          "output_type": "stream",
          "text": [
            "uint8\n",
            "1\n"
          ],
          "name": "stdout"
        }
      ]
    },
    {
      "cell_type": "markdown",
      "metadata": {
        "id": "efgqlZ5UxBw-"
      },
      "source": [
        "### 3.1.2 NumPy 배열 생성\r\n",
        "Numpy 배열을 만드는 방법은 값을 가지고 생성하는 방법과, 크기만 지정해서 생성하는 방법으로 나눠진다. 크기만 지정해서 생성하는 방법은 다시 특정한 초기 값을 모든 요소에 지정하는 경우와 값의 범위를 지정해서 순차적으로 증가 또는 감소하는 값을 갖게 하는 방법으로 나눌 수 있다.  \r\n",
        "\r\n",
        "다음 목록은 NumPy 배열 생성에 사용할 함수들이다.\r\n",
        "* 값으로 생성 : array()\r\n",
        "* 초기 값으로 생성 : empty(), zeros(), ones(), full()\r\n",
        "* 기존 배열로 생성 : empty_like(), zeros_like(), ones_like(), full_like()\r\n",
        "* 순차적인 값으로 생성 : arange()\r\n",
        "* 난수로 생성 : random.rand(), random.randn()\r\n"
      ]
    },
    {
      "cell_type": "markdown",
      "metadata": {
        "id": "iCp-aBmx98Fv"
      },
      "source": [
        "### 3.1.3 값으로 생성\r\n",
        "배열 생성할 때 사용할 값을 가지고 있는 경우에는 numpy.array() 함수로 간단히 생성할 수 있다. \r\n",
        "* list : 배열 생성에 사용할 값을 갖는 파이썬 리스트 객체\r\n",
        "* dtype : 데이터 타입(생략하면 값에 의해 자동 결정)\r\n",
        "  - int8, int16, int32, int64 : 부호 있는 정수\r\n",
        "  - uint8, uint16, uint32, uint64 : 부호 없는 정수\r\n",
        "  - float16, float32, float64, float128 : 부동 소수점을 갖는 실수\r\n",
        "  - complex64, complex128, complex256 : 부동 소수점을 갖는 복소수\r\n",
        "  - bool : 불(boolean)\r\n",
        "\r\n",
        "\r\n",
        "이제 numpy.array() 함수로 파이썬 리스트에 값을 지정해서 생성하는 코드를 작성해본다."
      ]
    },
    {
      "cell_type": "code",
      "metadata": {
        "colab": {
          "base_uri": "https://localhost:8080/"
        },
        "id": "NKirBZ9kw-BS",
        "outputId": "a484b4cc-5fd9-4a98-b502-2180848f6182"
      },
      "source": [
        "import numpy as np\r\n",
        "a = np.array([1,2,3,4])\r\n",
        "print(a)\r\n",
        "print(a.dtype)\r\n",
        "print(a.shape)"
      ],
      "execution_count": null,
      "outputs": [
        {
          "output_type": "stream",
          "text": [
            "[1 2 3 4]\n",
            "int64\n",
            "(4,)\n"
          ],
          "name": "stdout"
        }
      ]
    },
    {
      "cell_type": "code",
      "metadata": {
        "id": "rTmb3pZ4-CjN",
        "colab": {
          "base_uri": "https://localhost:8080/"
        },
        "outputId": "1bc95450-6f5b-47d8-8d72-b2a7f054a0d6"
      },
      "source": [
        "b = np.array([[1,2,3,4], [5,6,7,8]])\r\n",
        "print(b)\r\n",
        "print(b.shape)\r\n",
        "print('==================')\r\n",
        "c = np.array([1,2,3.14,4])\r\n",
        "print(c)\r\n",
        "print(c.dtype)\r\n",
        "print('==================')\r\n",
        "d = np.array([1,2,3,4], dtype=np.float32)\r\n",
        "print(d, d.dtype)"
      ],
      "execution_count": null,
      "outputs": [
        {
          "output_type": "stream",
          "text": [
            "[[1 2 3 4]\n",
            " [5 6 7 8]]\n",
            "(2, 4)\n",
            "==================\n",
            "[1.   2.   3.14 4.  ]\n",
            "float64\n",
            "==================\n",
            "[1. 2. 3. 4.] float32\n"
          ],
          "name": "stdout"
        }
      ]
    },
    {
      "cell_type": "markdown",
      "metadata": {
        "id": "A_pdr2a2yWT_"
      },
      "source": [
        "### 3.1.4 크기와 초기 값으로 생성\r\n",
        "OpenCV에서는 대부분 배열 생성에 사용할 값을 가지고 있지 않다. 이미지 작업을 할 때 픽셀 값을 타이핑해서 입력한다는 것은 거의 있을 수 없다. 따라서 NumPy 배열을 생성할 때 더 많이 사용하는 방법은 배열의 차수와 크기 그리고 초기 값을 지정해서 생성하는 방법이다. 이때 쓸 수 있는 함수는 초기 값을 지정하는 방법에 따라 여러 가지가 있는데, 튜플로 차수와 크기를 지정하는 방법은 모두 같다.\r\n",
        "* numpy.empty(shape [, dtype]) : 초기화되지 않은 값(쓰레기 값)으로 배열 생성\r\n",
        " - shape : 튜플, 배열의 각 차수의 크기 지정\r\n",
        "* numpy.zeros(shape [, dtype]) : 0(영, zero)으로 초기화된 배열 생성\r\n",
        "* numpy.ones(shape [, dtype]) : 1로 초기화된 배열 생성\r\n",
        "* numpy.full(shape, fill_value [,dtype]) : fill_value로 초기화 된 배열 생성 \r\n",
        "\r\n",
        "먼저 numpy.empty() 함수의 사용 사례를 보자."
      ]
    },
    {
      "cell_type": "code",
      "metadata": {
        "id": "kPQHhXWcWHjk",
        "colab": {
          "base_uri": "https://localhost:8080/"
        },
        "outputId": "b92fef9a-76cd-499e-8296-60a17d524447"
      },
      "source": [
        "a = np.empty((2,3))\r\n",
        "print(a,'\\n', a.dtype)"
      ],
      "execution_count": null,
      "outputs": [
        {
          "output_type": "stream",
          "text": [
            "[[2.13420786e-316 0.00000000e+000 0.00000000e+000]\n",
            " [0.00000000e+000 0.00000000e+000 0.00000000e+000]] \n",
            " float64\n"
          ],
          "name": "stdout"
        }
      ]
    },
    {
      "cell_type": "markdown",
      "metadata": {
        "id": "Kld9kHaA9Jdm"
      },
      "source": [
        "위의 초기 값은 쓰레기 값으로 제각각인 것을 알 수 있다. 특정 값으로 초기화를 하고 싶으면 fill() 함수를 사용하면 된다."
      ]
    },
    {
      "cell_type": "code",
      "metadata": {
        "colab": {
          "base_uri": "https://localhost:8080/"
        },
        "id": "_mCmZ8uG8ycp",
        "outputId": "8e7bcbe1-b47c-4819-8ea4-591bfa10c05f"
      },
      "source": [
        "a.fill(255)\r\n",
        "print(a)"
      ],
      "execution_count": null,
      "outputs": [
        {
          "output_type": "stream",
          "text": [
            "[[255. 255. 255.]\n",
            " [255. 255. 255.]]\n"
          ],
          "name": "stdout"
        }
      ]
    },
    {
      "cell_type": "markdown",
      "metadata": {
        "id": "VI9-sbPu9mN8"
      },
      "source": [
        "이런 식으로 배열을 만들고 어떤 특정한 값으로 모든 요소를 초기화하는 일이 많은데, 이런 작업을 한번에 해주는 함수가 zeros(), ones(), full()이다. 다음으로 활용 예제들을 보자.\r\n"
      ]
    },
    {
      "cell_type": "code",
      "metadata": {
        "colab": {
          "base_uri": "https://localhost:8080/"
        },
        "id": "eerpDoj79hkA",
        "outputId": "4c5cd97b-b56c-4724-e27a-1d077499ec55"
      },
      "source": [
        "b = np.zeros((2, 3), dtype=np.int8)\r\n",
        "print(b, b.dtype)\r\n",
        "print(\"=============\")\r\n",
        "c=np.ones((2,3), dtype=np.int16)\r\n",
        "print(c)\r\n",
        "print(\"=============\")\r\n",
        "d = np.full((2,3,4), 255, dtype=np.uint8)\r\n",
        "print(d, d.dtype)"
      ],
      "execution_count": null,
      "outputs": [
        {
          "output_type": "stream",
          "text": [
            "[[0 0 0]\n",
            " [0 0 0]] int8\n",
            "=============\n",
            "[[1 1 1]\n",
            " [1 1 1]]\n",
            "=============\n",
            "[[[255 255 255 255]\n",
            "  [255 255 255 255]\n",
            "  [255 255 255 255]]\n",
            "\n",
            " [[255 255 255 255]\n",
            "  [255 255 255 255]\n",
            "  [255 255 255 255]]] uint8\n"
          ],
          "name": "stdout"
        }
      ]
    },
    {
      "cell_type": "markdown",
      "metadata": {
        "id": "w6jsXYmsAcXq"
      },
      "source": [
        "새로운 배열을 생성할 때 기존에 있던 배열과 같은 크기의 배열을 만들어야 할 때도 있는데, 그때 사용하는 함수는 다음과 같다.\r\n",
        "* empty_like(array, [, dtype]) : 초기화되지 않은, array와 같은 shape와 dtype의 배열 생성 \r\n",
        "* zeros_like(array, [, dtype]) : 0으로 초기화 된, array와 같은 shape와 dtype의 배열 생성\r\n",
        "* ones_like(array, [, dtype]) : 1로 초기화 된, array와 같은 shape와 dtype의 배열 생성\r\n",
        "* full_like(array, fill_value [, dtype]) : fill_value로 초기화 된, array와 같은 shape와 type 생성\r\n",
        "\r\n",
        "주로 이미지를 읽고, 필요한 연산을 한 후에 결과 이미지를 생성할 때 원본 이미지와 동일한 크기의 배열을 생성해야 하므로 이런 함수들을 자주 쓴다."
      ]
    },
    {
      "cell_type": "code",
      "metadata": {
        "colab": {
          "base_uri": "https://localhost:8080/"
        },
        "id": "_nB3hqhe-J94",
        "outputId": "fcd3d423-31d2-4707-b7c8-fd14927291f7"
      },
      "source": [
        "img = cv2.imread('/content/drive/MyDrive/파이썬을 이용한 open CV/Data_Folder/blank_500.jpg')\r\n",
        "print(img, img.dtype, '\\n', img.shape)"
      ],
      "execution_count": null,
      "outputs": [
        {
          "output_type": "stream",
          "text": [
            "[[[255 255 255]\n",
            "  [255 255 255]\n",
            "  [255 255 255]\n",
            "  ...\n",
            "  [255 255 255]\n",
            "  [255 255 255]\n",
            "  [255 255 255]]\n",
            "\n",
            " [[255 255 255]\n",
            "  [255 255 255]\n",
            "  [255 255 255]\n",
            "  ...\n",
            "  [255 255 255]\n",
            "  [255 255 255]\n",
            "  [255 255 255]]\n",
            "\n",
            " [[255 255 255]\n",
            "  [255 255 255]\n",
            "  [255 255 255]\n",
            "  ...\n",
            "  [255 255 255]\n",
            "  [255 255 255]\n",
            "  [255 255 255]]\n",
            "\n",
            " ...\n",
            "\n",
            " [[255 255 255]\n",
            "  [255 255 255]\n",
            "  [255 255 255]\n",
            "  ...\n",
            "  [255 255 255]\n",
            "  [255 255 255]\n",
            "  [255 255 255]]\n",
            "\n",
            " [[255 255 255]\n",
            "  [255 255 255]\n",
            "  [255 255 255]\n",
            "  ...\n",
            "  [255 255 255]\n",
            "  [255 255 255]\n",
            "  [255 255 255]]\n",
            "\n",
            " [[255 255 255]\n",
            "  [255 255 255]\n",
            "  [255 255 255]\n",
            "  ...\n",
            "  [255 255 255]\n",
            "  [255 255 255]\n",
            "  [255 255 255]]] uint8 \n",
            " (500, 500, 3)\n"
          ],
          "name": "stdout"
        }
      ]
    },
    {
      "cell_type": "markdown",
      "metadata": {
        "id": "rMh-xzTzPU3v"
      },
      "source": [
        "위 코드는 2장에서 만든 blank 이미지를 배열로 읽어들였다. 이 이미지와 동일한 크기의 배열을 생성하는 코드를 작성하면 다음과 같다."
      ]
    },
    {
      "cell_type": "code",
      "metadata": {
        "colab": {
          "base_uri": "https://localhost:8080/"
        },
        "id": "NGNrctBUO_u7",
        "outputId": "ec8f66e6-816e-4ba6-e51c-93a3f986151f"
      },
      "source": [
        "a = np.empty_like(img)\r\n",
        "b = np.zeros_like(img)\r\n",
        "c = np.ones_like(img)\r\n",
        "d = np.full_like(img, 255)\r\n",
        "print(a, a.dtype, a.shape)\r\n",
        "print(\"======================\")\r\n",
        "print(b, b.dtype, b.shape)\r\n",
        "print(\"======================\")\r\n",
        "print(c, c.dtype, c.shape)\r\n",
        "print(\"======================\")\r\n",
        "print(d, d.dtype, d.shape)\r\n"
      ],
      "execution_count": null,
      "outputs": [
        {
          "output_type": "stream",
          "text": [
            "[[[0 0 0]\n",
            "  [0 0 0]\n",
            "  [0 0 0]\n",
            "  ...\n",
            "  [0 0 0]\n",
            "  [0 0 0]\n",
            "  [0 0 0]]\n",
            "\n",
            " [[0 0 0]\n",
            "  [0 0 0]\n",
            "  [0 0 0]\n",
            "  ...\n",
            "  [0 0 0]\n",
            "  [0 0 0]\n",
            "  [0 0 0]]\n",
            "\n",
            " [[0 0 0]\n",
            "  [0 0 0]\n",
            "  [0 0 0]\n",
            "  ...\n",
            "  [0 0 0]\n",
            "  [0 0 0]\n",
            "  [0 0 0]]\n",
            "\n",
            " ...\n",
            "\n",
            " [[0 0 0]\n",
            "  [0 0 0]\n",
            "  [0 0 0]\n",
            "  ...\n",
            "  [0 0 0]\n",
            "  [0 0 0]\n",
            "  [0 0 0]]\n",
            "\n",
            " [[0 0 0]\n",
            "  [0 0 0]\n",
            "  [0 0 0]\n",
            "  ...\n",
            "  [0 0 0]\n",
            "  [0 0 0]\n",
            "  [0 0 0]]\n",
            "\n",
            " [[0 0 0]\n",
            "  [0 0 0]\n",
            "  [0 0 0]\n",
            "  ...\n",
            "  [0 0 0]\n",
            "  [0 0 0]\n",
            "  [0 0 0]]] uint8 (500, 500, 3)\n",
            "======================\n",
            "[[[0 0 0]\n",
            "  [0 0 0]\n",
            "  [0 0 0]\n",
            "  ...\n",
            "  [0 0 0]\n",
            "  [0 0 0]\n",
            "  [0 0 0]]\n",
            "\n",
            " [[0 0 0]\n",
            "  [0 0 0]\n",
            "  [0 0 0]\n",
            "  ...\n",
            "  [0 0 0]\n",
            "  [0 0 0]\n",
            "  [0 0 0]]\n",
            "\n",
            " [[0 0 0]\n",
            "  [0 0 0]\n",
            "  [0 0 0]\n",
            "  ...\n",
            "  [0 0 0]\n",
            "  [0 0 0]\n",
            "  [0 0 0]]\n",
            "\n",
            " ...\n",
            "\n",
            " [[0 0 0]\n",
            "  [0 0 0]\n",
            "  [0 0 0]\n",
            "  ...\n",
            "  [0 0 0]\n",
            "  [0 0 0]\n",
            "  [0 0 0]]\n",
            "\n",
            " [[0 0 0]\n",
            "  [0 0 0]\n",
            "  [0 0 0]\n",
            "  ...\n",
            "  [0 0 0]\n",
            "  [0 0 0]\n",
            "  [0 0 0]]\n",
            "\n",
            " [[0 0 0]\n",
            "  [0 0 0]\n",
            "  [0 0 0]\n",
            "  ...\n",
            "  [0 0 0]\n",
            "  [0 0 0]\n",
            "  [0 0 0]]] uint8 (500, 500, 3)\n",
            "======================\n",
            "[[[1 1 1]\n",
            "  [1 1 1]\n",
            "  [1 1 1]\n",
            "  ...\n",
            "  [1 1 1]\n",
            "  [1 1 1]\n",
            "  [1 1 1]]\n",
            "\n",
            " [[1 1 1]\n",
            "  [1 1 1]\n",
            "  [1 1 1]\n",
            "  ...\n",
            "  [1 1 1]\n",
            "  [1 1 1]\n",
            "  [1 1 1]]\n",
            "\n",
            " [[1 1 1]\n",
            "  [1 1 1]\n",
            "  [1 1 1]\n",
            "  ...\n",
            "  [1 1 1]\n",
            "  [1 1 1]\n",
            "  [1 1 1]]\n",
            "\n",
            " ...\n",
            "\n",
            " [[1 1 1]\n",
            "  [1 1 1]\n",
            "  [1 1 1]\n",
            "  ...\n",
            "  [1 1 1]\n",
            "  [1 1 1]\n",
            "  [1 1 1]]\n",
            "\n",
            " [[1 1 1]\n",
            "  [1 1 1]\n",
            "  [1 1 1]\n",
            "  ...\n",
            "  [1 1 1]\n",
            "  [1 1 1]\n",
            "  [1 1 1]]\n",
            "\n",
            " [[1 1 1]\n",
            "  [1 1 1]\n",
            "  [1 1 1]\n",
            "  ...\n",
            "  [1 1 1]\n",
            "  [1 1 1]\n",
            "  [1 1 1]]] uint8 (500, 500, 3)\n",
            "======================\n",
            "[[[255 255 255]\n",
            "  [255 255 255]\n",
            "  [255 255 255]\n",
            "  ...\n",
            "  [255 255 255]\n",
            "  [255 255 255]\n",
            "  [255 255 255]]\n",
            "\n",
            " [[255 255 255]\n",
            "  [255 255 255]\n",
            "  [255 255 255]\n",
            "  ...\n",
            "  [255 255 255]\n",
            "  [255 255 255]\n",
            "  [255 255 255]]\n",
            "\n",
            " [[255 255 255]\n",
            "  [255 255 255]\n",
            "  [255 255 255]\n",
            "  ...\n",
            "  [255 255 255]\n",
            "  [255 255 255]\n",
            "  [255 255 255]]\n",
            "\n",
            " ...\n",
            "\n",
            " [[255 255 255]\n",
            "  [255 255 255]\n",
            "  [255 255 255]\n",
            "  ...\n",
            "  [255 255 255]\n",
            "  [255 255 255]\n",
            "  [255 255 255]]\n",
            "\n",
            " [[255 255 255]\n",
            "  [255 255 255]\n",
            "  [255 255 255]\n",
            "  ...\n",
            "  [255 255 255]\n",
            "  [255 255 255]\n",
            "  [255 255 255]]\n",
            "\n",
            " [[255 255 255]\n",
            "  [255 255 255]\n",
            "  [255 255 255]\n",
            "  ...\n",
            "  [255 255 255]\n",
            "  [255 255 255]\n",
            "  [255 255 255]]] uint8 (500, 500, 3)\n"
          ],
          "name": "stdout"
        }
      ]
    },
    {
      "cell_type": "markdown",
      "metadata": {
        "id": "3DPU2ss5S-zZ"
      },
      "source": [
        "### 3.1.5 시퀀스와 난수로 생성\r\n",
        "NumPy 배열을 생성하는 방법 중에는 일정한 범위 내에서 순차적인 값을 갖게 하는 방법과 난수로 채우는 방법이 있다.\r\n",
        "* numpy.arrage([start=0, ] stop [, step=1, dtype=float64]) : 순차적인 값으로 생성\r\n",
        "  - start : 시작 값\r\n",
        "  - stop : 종료 값, 범위에 포함하는 수는 stop -1까지\r\n",
        "  - step : 증가 값\r\n",
        "* numpy.random.read([d0 [, d1 [..., dn]]]) : 0과 1사이의 무작위 수로 생성\r\n",
        "  - d0, d1..dn : shape, 생략하면 난수 한 개 반환\r\n",
        "* numpy.random.randn([d0 [, d1 [..., dn]]]) : 표준정규 분포(평균 :0, 분산 : 1)를 따르는 무작위 수로 생성\r\n",
        "\r\n",
        "numpy.arrange() 함수는 파이썬 기본 함수인 range()와 사용 방법이 거의 같다. 다만 리스트가 아닌 NumPy 배열을 반환한다는 차이가 있다. \r\n"
      ]
    },
    {
      "cell_type": "code",
      "metadata": {
        "colab": {
          "base_uri": "https://localhost:8080/"
        },
        "id": "4ezrYbEnSw0c",
        "outputId": "36e6ec66-becf-49e2-d51d-f6a93e2ea81e"
      },
      "source": [
        "a = np.arange(5)                  #0부터 4까지 1씩 증가하는 수를 갖는 배열 생성\r\n",
        "print(a, a.dtype, a.shape)\r\n",
        "print(\"======================\")\r\n",
        "a = np.arange(3, 9, 2)            #3부터 8까지 2씩 증가하는 수를 갖는 배열 생성 \r\n",
        "print(a)"
      ],
      "execution_count": null,
      "outputs": [
        {
          "output_type": "stream",
          "text": [
            "[0 1 2 3 4] int64 (5,)\n",
            "======================\n",
            "[3 5 7]\n"
          ],
          "name": "stdout"
        }
      ]
    },
    {
      "cell_type": "markdown",
      "metadata": {
        "id": "8zaoyJ6NdBEp"
      },
      "source": [
        "arange() 함수는 1차원 배열만을 생성할 수 있으므로 다차원 배열, 특히 이미지 데이터를 갖는 3차원 배열로 만들기 위해서 '차원 변경'함수와 함께 써야 하는 경우가 많다. 이는 다음 절에서 설명한다.  \r\n",
        "난수를 발생시키는 함수로는 random.rand()와 random.randn()이 있다. rand() 함수는 0과 1사이의 값을 무작위로 만들고, randn() 함수는 평균이 0이고, 분산이 1인 정규 분포를 따르는 무작위 수를 만들어 낸다. "
      ]
    },
    {
      "cell_type": "code",
      "metadata": {
        "colab": {
          "base_uri": "https://localhost:8080/"
        },
        "id": "2e9owTyHbMuA",
        "outputId": "cf67b266-325d-4596-8ab9-dfc8dde2b232"
      },
      "source": [
        "a = np.random.rand()\r\n",
        "print(a)\r\n",
        "b = np.random.randn()\r\n",
        "print(b)\r\n",
        "a = np.random.rand(2,3)\r\n",
        "print(a)\r\n",
        "b = np.random.randn(2,3)\r\n",
        "print(b)\r\n"
      ],
      "execution_count": null,
      "outputs": [
        {
          "output_type": "stream",
          "text": [
            "0.7208692043888941\n",
            "-0.49052921785341697\n",
            "[[0.90707129 0.85779154 0.44166771]\n",
            " [0.15735894 0.0773554  0.82679602]]\n",
            "[[-0.70084368 -1.31968586  0.55477718]\n",
            " [-0.81155907 -2.18209558 -0.87817379]]\n"
          ],
          "name": "stdout"
        }
      ]
    },
    {
      "cell_type": "markdown",
      "metadata": {
        "id": "eFqep_VmfWTX"
      },
      "source": [
        "이 함수들은 결과 값이 소수점을 갖는 데다가 특정 범위 내에서 난수를 추출하므로 이미지 작업에 필요한 원하는 범위 내에서 난수를 발생하기 위해서는 뒤에서 설명하는 브로드캐스팅 연산과 dtype 변경이 필요할 때가 많다. "
      ]
    },
    {
      "cell_type": "markdown",
      "metadata": {
        "id": "B2LVym-VfkfG"
      },
      "source": [
        "### 3.1.6 dtype 변경\r\n",
        "\r\n",
        "배열의 데이터 타입을 변경하는 함수는 다음과 같다.\r\n",
        "* ndarray.astype(dtype)\r\n",
        "  - dtype : 변경하고 싶은 dtype, 문자열 또는 dtype\r\n",
        "* numpy.uintXX(array) : array를 부호 없는 정수(uint) 타입으로 변경해서 반환\r\n",
        "  - uintXX : uint8, uint16, uint32, uint64\r\n",
        "* numpy.intXX(array) : array를 int 타입으로 변경해서 반환\r\n",
        "  - intXX : int8, int16, int32, int64\r\n",
        "* numpy.floatXX(array) : array를 float 타입으로 변경해서 반환\r\n",
        "  - floatXX : float16, float32, float 64, float128\r\n",
        "* numpy.comlexXX(array) : array를 복소수 타입으로 변경해서 반환\r\n",
        "  - complexXX : complex64, complex128, complex256\r\n"
      ]
    },
    {
      "cell_type": "code",
      "metadata": {
        "colab": {
          "base_uri": "https://localhost:8080/"
        },
        "id": "wHdyk5reezwc",
        "outputId": "8b3cdc8e-9a48-4534-8803-a4aad0d7224f"
      },
      "source": [
        "a = np.arange(5)\r\n",
        "print(a, a.dtype)\r\n",
        "b = a.astype('float32')\r\n",
        "print(b, b.dtype)\r\n",
        "c = a.astype(np.float64)          #NumPy 모듈에 선언된 변수를 이용\r\n",
        "print(c, c.dtype)"
      ],
      "execution_count": null,
      "outputs": [
        {
          "output_type": "stream",
          "text": [
            "[0 1 2 3 4] int64\n",
            "[0. 1. 2. 3. 4.] float32\n",
            "[0. 1. 2. 3. 4.] float64\n"
          ],
          "name": "stdout"
        }
      ]
    },
    {
      "cell_type": "markdown",
      "metadata": {
        "id": "YsBgczijjms_"
      },
      "source": [
        "위 처럼 astype() 함수를 사용하여 dtype을 변경하는 방법이 있고, 다른 방법으로 NumPy에서 지원하는 dtype들과 같은 이름의 함수들이 있는데, 변경을 원하는 dtype 이름의 함수를 호출하면서 배열 객체를 인자로 전달하는 방법도 있다."
      ]
    },
    {
      "cell_type": "code",
      "metadata": {
        "colab": {
          "base_uri": "https://localhost:8080/"
        },
        "id": "M5SnSiOlhDnF",
        "outputId": "ddcca6db-d228-4e8b-a186-09df3a380f9e"
      },
      "source": [
        "print(a.dtype)\r\n",
        "d = np.uint8(a)\r\n",
        "print(d, d.dtype)"
      ],
      "execution_count": null,
      "outputs": [
        {
          "output_type": "stream",
          "text": [
            "int64\n",
            "[0 1 2 3 4] uint8\n"
          ],
          "name": "stdout"
        }
      ]
    },
    {
      "cell_type": "markdown",
      "metadata": {
        "id": "jArfbGYhkot2"
      },
      "source": [
        "### 3.1.7 차원 변경\r\n",
        "원래 1차원이던 배열을 2행 3열, 아니면 100 X 200 X 3과 같은 배열을 1차원으로 바꾸는 식의 작업이 필요할 때가 많다. 이때 필요한 함수는 다음과 같다.\r\n",
        "* ndarray.reshape(newshape) : ndarray의 shape를 newshape로 차원 변경\r\n",
        "* numpy.reshape(ndarray, newshape) : ndarray의 shape를 newshape로 차원 변경\r\n",
        "  - ndarray : 원본 배열 객체\r\n",
        "  - newshape : 변경하고자 하는 새로운 shape(튜플)\r\n",
        "* nempy.ravel(ndarray) : 1차원 배열로 차원 변경\r\n",
        "  - ndarray : 변경할 원본 배열\r\n",
        "* ndarray.T : 전치배열(transpose)\r\n"
      ]
    },
    {
      "cell_type": "code",
      "metadata": {
        "colab": {
          "base_uri": "https://localhost:8080/"
        },
        "id": "jtOj8JJykbGf",
        "outputId": "1921b4a4-1c5e-46c2-c5c8-4b8dc37761dc"
      },
      "source": [
        "a = np.arange(6)\r\n",
        "print(a)\r\n",
        "b = a.reshape(2, 3)\r\n",
        "print(b)\r\n",
        "c = np.reshape(a, (2,3))\r\n",
        "print(c)"
      ],
      "execution_count": null,
      "outputs": [
        {
          "output_type": "stream",
          "text": [
            "[0 1 2 3 4 5]\n",
            "[[0 1 2]\n",
            " [3 4 5]]\n",
            "[[0 1 2]\n",
            " [3 4 5]]\n"
          ],
          "name": "stdout"
        }
      ]
    },
    {
      "cell_type": "markdown",
      "metadata": {
        "id": "xDU-83FmzCzM"
      },
      "source": [
        "이 두 함수는 새로운 shape을 지정할 때 -1을 포함해서 전달할 수 있다. -1의 의미는 해당 차수에 대해서는 크기를 지정하지 않겠다는 뜻이고, 나머지 차수를 이용해서 알아서 계산하라는 뜻이다."
      ]
    },
    {
      "cell_type": "code",
      "metadata": {
        "colab": {
          "base_uri": "https://localhost:8080/"
        },
        "id": "SgX3hTVYvy-m",
        "outputId": "4193bf89-39bd-485e-e31d-ada3e9ed2d19"
      },
      "source": [
        "d = np.arange(100).reshape(2, -1)\r\n",
        "print(d)\r\n",
        "e = np.arange(100).reshape(-1, 5)\r\n",
        "print(e)"
      ],
      "execution_count": null,
      "outputs": [
        {
          "output_type": "stream",
          "text": [
            "[[ 0  1  2  3  4  5  6  7  8  9 10 11 12 13 14 15 16 17 18 19 20 21 22 23\n",
            "  24 25 26 27 28 29 30 31 32 33 34 35 36 37 38 39 40 41 42 43 44 45 46 47\n",
            "  48 49]\n",
            " [50 51 52 53 54 55 56 57 58 59 60 61 62 63 64 65 66 67 68 69 70 71 72 73\n",
            "  74 75 76 77 78 79 80 81 82 83 84 85 86 87 88 89 90 91 92 93 94 95 96 97\n",
            "  98 99]]\n",
            "[[ 0  1  2  3  4]\n",
            " [ 5  6  7  8  9]\n",
            " [10 11 12 13 14]\n",
            " [15 16 17 18 19]\n",
            " [20 21 22 23 24]\n",
            " [25 26 27 28 29]\n",
            " [30 31 32 33 34]\n",
            " [35 36 37 38 39]\n",
            " [40 41 42 43 44]\n",
            " [45 46 47 48 49]\n",
            " [50 51 52 53 54]\n",
            " [55 56 57 58 59]\n",
            " [60 61 62 63 64]\n",
            " [65 66 67 68 69]\n",
            " [70 71 72 73 74]\n",
            " [75 76 77 78 79]\n",
            " [80 81 82 83 84]\n",
            " [85 86 87 88 89]\n",
            " [90 91 92 93 94]\n",
            " [95 96 97 98 99]]\n"
          ],
          "name": "stdout"
        }
      ]
    },
    {
      "cell_type": "markdown",
      "metadata": {
        "id": "dCLryaFb0YWU"
      },
      "source": [
        "shape에서 -1 인자는 개발자에게 불필요한 연산을 안하도록 만들어 주지만, 101개의 1차원 배열을 2열로 나누라는 식같은 경우는 오류가 발생하므로 주의해야 한다.   \r\n",
        "이제 다차원 배열을 1차원 배열로 재정렬할 수 있는 reshape() 함수와 numpy.ravel()함수를 사용해본다."
      ]
    },
    {
      "cell_type": "code",
      "metadata": {
        "colab": {
          "base_uri": "https://localhost:8080/"
        },
        "id": "IOPD9cHgzW0n",
        "outputId": "1722e249-6a97-4bac-e458-acb549c4764b"
      },
      "source": [
        "f = np.zeros((2,3))\r\n",
        "print(f)\r\n",
        "print(f.reshape((6,)))\r\n",
        "print(f.reshape(-1))\r\n",
        "print(np.ravel(f))\r\n"
      ],
      "execution_count": null,
      "outputs": [
        {
          "output_type": "stream",
          "text": [
            "[[0. 0. 0.]\n",
            " [0. 0. 0.]]\n",
            "[0. 0. 0. 0. 0. 0.]\n",
            "[0. 0. 0. 0. 0. 0.]\n",
            "[0. 0. 0. 0. 0. 0.]\n"
          ],
          "name": "stdout"
        }
      ]
    },
    {
      "cell_type": "markdown",
      "metadata": {
        "id": "KJkYALMH2VKR"
      },
      "source": [
        "NumPy 배열(ndarray) 객체에는 ndarray.T라는 속성이 있다. 이 속성을 이용하면 행과 열을 서로 바꾸는 전체 배열을 얻을 수 있다."
      ]
    },
    {
      "cell_type": "code",
      "metadata": {
        "colab": {
          "base_uri": "https://localhost:8080/"
        },
        "id": "h46vCqiG1qab",
        "outputId": "a612f78f-fb7e-4b80-adc4-82290e64c7ae"
      },
      "source": [
        "g = np.arange(10).reshape(2,-1)\r\n",
        "print(g)\r\n",
        "print(g.T)"
      ],
      "execution_count": null,
      "outputs": [
        {
          "output_type": "stream",
          "text": [
            "[[0 1 2 3 4]\n",
            " [5 6 7 8 9]]\n",
            "[[0 5]\n",
            " [1 6]\n",
            " [2 7]\n",
            " [3 8]\n",
            " [4 9]]\n"
          ],
          "name": "stdout"
        }
      ]
    },
    {
      "cell_type": "markdown",
      "metadata": {
        "id": "hoWHtsKh2sVX"
      },
      "source": [
        "### 3.1.8 브로드캐스팅 연산\r\n",
        "NumPy 배열을 사용하는 가장 큰 이유는 대부분 브로드캐스팅(broadcasting) 연산 때문일 것이다. 0부터 9까지 있는 파이썬 리스트의 모든 항목 값을 1씩 증가시키는 다음 코드가 있다고 해보자."
      ]
    },
    {
      "cell_type": "code",
      "metadata": {
        "colab": {
          "base_uri": "https://localhost:8080/"
        },
        "id": "HgDc_B0x2pBC",
        "outputId": "ac4b039b-569a-46ed-a40f-926b4432d7ed"
      },
      "source": [
        "mylist = list(range(10))\r\n",
        "print(mylist)\r\n",
        "for i in range(len(mylist)):\r\n",
        "  mylist[i] = mylist[i] + 1\r\n",
        "print('=>',mylist)"
      ],
      "execution_count": null,
      "outputs": [
        {
          "output_type": "stream",
          "text": [
            "[0, 1, 2, 3, 4, 5, 6, 7, 8, 9]\n",
            "=> [1, 2, 3, 4, 5, 6, 7, 8, 9, 10]\n"
          ],
          "name": "stdout"
        }
      ]
    },
    {
      "cell_type": "markdown",
      "metadata": {
        "id": "XksKaUJY3rmW"
      },
      "source": [
        "위와 같이 반복문을 만들어서 하나씩 1을 더해주었다. 하지만 NumPy 배열에서는 +1의 연산을 한번만 해도 같은 결과를 얻게 되고, 이를 브로드캐스팅 연산이라고 한다."
      ]
    },
    {
      "cell_type": "code",
      "metadata": {
        "colab": {
          "base_uri": "https://localhost:8080/"
        },
        "id": "yUpNvZFo3b3Y",
        "outputId": "7b96de5c-6e55-4b85-a2d0-b3dced46b8a3"
      },
      "source": [
        "a = np.arange(10)\r\n",
        "print(a)\r\n",
        "a = a+1\r\n",
        "print(a)"
      ],
      "execution_count": null,
      "outputs": [
        {
          "output_type": "stream",
          "text": [
            "[0 1 2 3 4 5 6 7 8 9]\n",
            "[ 1  2  3  4  5  6  7  8  9 10]\n"
          ],
          "name": "stdout"
        }
      ]
    },
    {
      "cell_type": "markdown",
      "metadata": {
        "id": "rGIZ93Vt4HoX"
      },
      "source": [
        "브로드캐스팅 연산은 더하기 연산뿐만 아니라 모든 산술 연산이 가능하다. 또, 다차원 배열에서도 똑같이 연산이 적용된다. 산술 연산뿐만 아니라 비교연산도 가능한데, 비교 연산의 결과는 각 항목에ㅐ 대해 만족 여부를 Boolean(True/False)값으로 갖는 동일한 크기의 배열로 반환한다.\r\n"
      ]
    },
    {
      "cell_type": "code",
      "metadata": {
        "colab": {
          "base_uri": "https://localhost:8080/"
        },
        "id": "tLwytTd_4Bqx",
        "outputId": "f74c6ca6-1690-4a29-f10a-80cbf196a913"
      },
      "source": [
        "a = np.arange(5)\r\n",
        "print(a)\r\n",
        "a = a > 2\r\n",
        "print(a)"
      ],
      "execution_count": null,
      "outputs": [
        {
          "output_type": "stream",
          "text": [
            "[0 1 2 3 4]\n",
            "[False False False  True  True]\n"
          ],
          "name": "stdout"
        }
      ]
    },
    {
      "cell_type": "markdown",
      "metadata": {
        "id": "XADXAzic-Rpz"
      },
      "source": [
        "또, 배열과 숫자 값 간의 연산뿐만 아니라 배열끼리의 연산도 가능하다."
      ]
    },
    {
      "cell_type": "code",
      "metadata": {
        "colab": {
          "base_uri": "https://localhost:8080/"
        },
        "id": "xtPy8K7F-G4A",
        "outputId": "22ab50b1-c5a7-4f3d-ec82-95f19ae9b266"
      },
      "source": [
        "a = np.arange(10, 60, 10)\r\n",
        "b = np.arange(1, 6)\r\n",
        "print(a, '\\n', b)\r\n",
        "print(a + b)\r\n",
        "print(a - b)\r\n",
        "print(a * b)\r\n",
        "print(a / b)\r\n",
        "print( a ** b)\r\n"
      ],
      "execution_count": null,
      "outputs": [
        {
          "output_type": "stream",
          "text": [
            "[10 20 30 40 50] \n",
            " [1 2 3 4 5]\n",
            "[11 22 33 44 55]\n",
            "[ 9 18 27 36 45]\n",
            "[ 10  40  90 160 250]\n",
            "[10. 10. 10. 10. 10.]\n",
            "[       10       400     27000   2560000 312500000]\n"
          ],
          "name": "stdout"
        }
      ]
    },
    {
      "cell_type": "markdown",
      "metadata": {
        "id": "I_u_pKwo_cZa"
      },
      "source": [
        "하지만, 배열 간의 연산에는 약간의 제약이 있다. 두 배열의 shape가 완전히 동일하거나 둘 중 하나가 1차원이면서 1차원 배열의 축의 길이가 같아야 한다. "
      ]
    },
    {
      "cell_type": "code",
      "metadata": {
        "colab": {
          "base_uri": "https://localhost:8080/",
          "height": 208
        },
        "id": "OB1MGExX-9Wz",
        "outputId": "ba01c603-ca72-4394-d2f4-ed0f20dc3e3b"
      },
      "source": [
        "a = np.ones((2,3))\r\n",
        "b = np.ones((3,2))\r\n",
        "print(a+b)"
      ],
      "execution_count": null,
      "outputs": [
        {
          "output_type": "error",
          "ename": "ValueError",
          "evalue": "ignored",
          "traceback": [
            "\u001b[0;31m---------------------------------------------------------------------------\u001b[0m",
            "\u001b[0;31mValueError\u001b[0m                                Traceback (most recent call last)",
            "\u001b[0;32m<ipython-input-57-36c5ca41fcbf>\u001b[0m in \u001b[0;36m<module>\u001b[0;34m()\u001b[0m\n\u001b[1;32m      1\u001b[0m \u001b[0ma\u001b[0m \u001b[0;34m=\u001b[0m \u001b[0mnp\u001b[0m\u001b[0;34m.\u001b[0m\u001b[0mones\u001b[0m\u001b[0;34m(\u001b[0m\u001b[0;34m(\u001b[0m\u001b[0;36m2\u001b[0m\u001b[0;34m,\u001b[0m\u001b[0;36m3\u001b[0m\u001b[0;34m)\u001b[0m\u001b[0;34m)\u001b[0m\u001b[0;34m\u001b[0m\u001b[0;34m\u001b[0m\u001b[0m\n\u001b[1;32m      2\u001b[0m \u001b[0mb\u001b[0m \u001b[0;34m=\u001b[0m \u001b[0mnp\u001b[0m\u001b[0;34m.\u001b[0m\u001b[0mones\u001b[0m\u001b[0;34m(\u001b[0m\u001b[0;34m(\u001b[0m\u001b[0;36m3\u001b[0m\u001b[0;34m,\u001b[0m\u001b[0;36m2\u001b[0m\u001b[0;34m)\u001b[0m\u001b[0;34m)\u001b[0m\u001b[0;34m\u001b[0m\u001b[0;34m\u001b[0m\u001b[0m\n\u001b[0;32m----> 3\u001b[0;31m \u001b[0mprint\u001b[0m\u001b[0;34m(\u001b[0m\u001b[0ma\u001b[0m\u001b[0;34m+\u001b[0m\u001b[0mb\u001b[0m\u001b[0;34m)\u001b[0m\u001b[0;34m\u001b[0m\u001b[0;34m\u001b[0m\u001b[0m\n\u001b[0m",
            "\u001b[0;31mValueError\u001b[0m: operands could not be broadcast together with shapes (2,3) (3,2) "
          ]
        }
      ]
    },
    {
      "cell_type": "markdown",
      "metadata": {
        "id": "pAr8QZeJCMwe"
      },
      "source": [
        "위는 행과 열의 개수가 서로 맞지 않기 때문에 연산이 되지 않는다. 하나가 1차원이면서 서로의 열이 같은 경우를 만들어서 연산해보자."
      ]
    },
    {
      "cell_type": "code",
      "metadata": {
        "colab": {
          "base_uri": "https://localhost:8080/"
        },
        "id": "9SAjMyXm_vrU",
        "outputId": "0f9e9ba8-8792-47e6-8929-2d91b3c53873"
      },
      "source": [
        "print(a)\r\n",
        "c = np.arange(3)\r\n",
        "print(\"=============\\n\", c)\r\n",
        "print(\"=============\\n\", a+c)               #1행 3열(1차원)\r\n",
        "d = np.arange(2).reshape(2,1)\r\n",
        "print('==============\\n', d)\r\n",
        "print(\"==============\\n\", a+d)              #2행 1열(1차원)"
      ],
      "execution_count": null,
      "outputs": [
        {
          "output_type": "stream",
          "text": [
            "[[1. 1. 1.]\n",
            " [1. 1. 1.]]\n",
            "=============\n",
            " [0 1 2]\n",
            "=============\n",
            " [[1. 2. 3.]\n",
            " [1. 2. 3.]]\n",
            "==============\n",
            " [[0]\n",
            " [1]]\n",
            "==============\n",
            " [[1. 1. 1.]\n",
            " [2. 2. 2.]]\n"
          ],
          "name": "stdout"
        }
      ]
    },
    {
      "cell_type": "markdown",
      "metadata": {
        "id": "wCVOaoJnDRME"
      },
      "source": [
        "위 처럼 1차원이면서 배열의 축의 길이가 같으면 연산이 가능하다. 이는 배열의 스칼라 연산이므로, 행렬과 백터의 연산과는 다르므로 주의해야한다."
      ]
    },
    {
      "cell_type": "markdown",
      "metadata": {
        "id": "X3fGP51mEJ7p"
      },
      "source": [
        "### 3.1.9 인덱싱과 슬라이싱\r\n",
        "NumPy 배열은 파이썬의 리스트처럼 인덱스로 각 요소에 접근할 수 있다. 당연히 배열의 차원에 따라서 인덱스의 개수도 달라진다."
      ]
    },
    {
      "cell_type": "code",
      "metadata": {
        "colab": {
          "base_uri": "https://localhost:8080/"
        },
        "id": "E2oskiDeCouO",
        "outputId": "a75a46bc-c665-4231-8636-e0cb90567f98"
      },
      "source": [
        "a = np.arange(10)\r\n",
        "print(a, '\\n==============\\n', a[5], '\\n==============\\n')\r\n",
        "\r\n",
        "b = np.arange(12).reshape(3,4)\r\n",
        "print(b, '\\n==============\\n', b[1], '\\n==============\\n', b[1,2])        #2차원 배열에서 1개의 인덱스만 출력하면 해당 행이 모두 출력"
      ],
      "execution_count": null,
      "outputs": [
        {
          "output_type": "stream",
          "text": [
            "[0 1 2 3 4 5 6 7 8 9] \n",
            "==============\n",
            " 5 \n",
            "==============\n",
            "\n",
            "[[ 0  1  2  3]\n",
            " [ 4  5  6  7]\n",
            " [ 8  9 10 11]] \n",
            "==============\n",
            " [4 5 6 7] \n",
            "==============\n",
            " 6\n"
          ],
          "name": "stdout"
        }
      ]
    },
    {
      "cell_type": "markdown",
      "metadata": {
        "id": "vRwIcEmSHt0g"
      },
      "source": [
        "다음으로는 인덱스를 선택해서 특정 값으로 바꾸는 코드를 작성해본다."
      ]
    },
    {
      "cell_type": "code",
      "metadata": {
        "colab": {
          "base_uri": "https://localhost:8080/"
        },
        "id": "faERuKY3GNmv",
        "outputId": "48bccd1f-37c3-4000-a0f2-83f193f4bbe6"
      },
      "source": [
        "print(b)\r\n",
        "print('===============')\r\n",
        "b[0] = 0\r\n",
        "print(b)\r\n",
        "print('===============')\r\n",
        "b[1,2] = 99\r\n",
        "print(b)"
      ],
      "execution_count": null,
      "outputs": [
        {
          "output_type": "stream",
          "text": [
            "[[ 0  1  2  3]\n",
            " [ 4  5  6  7]\n",
            " [ 8  9 10 11]]\n",
            "===============\n",
            "[[ 0  0  0  0]\n",
            " [ 4  5  6  7]\n",
            " [ 8  9 10 11]]\n",
            "===============\n",
            "[[ 0  0  0  0]\n",
            " [ 4  5 99  7]\n",
            " [ 8  9 10 11]]\n"
          ],
          "name": "stdout"
        }
      ]
    },
    {
      "cell_type": "markdown",
      "metadata": {
        "id": "HI7OIhZGJsFa"
      },
      "source": [
        "인덱스 자리에 클론(:)을 이용해서 범위를 지정하면 슬라이싱을 할 수 있다. 이때 범위의 끝 인덱스는 슬라이싱 결과에 포함되지 않는다. 시작과 끝 인덱스를 생략하면 처음부터 끝까지라는 의미다."
      ]
    },
    {
      "cell_type": "code",
      "metadata": {
        "colab": {
          "base_uri": "https://localhost:8080/"
        },
        "id": "TyZAENohJUpK",
        "outputId": "b527655a-b88a-4f1e-9352-d465dba09003"
      },
      "source": [
        "a = np.arange(12).reshape(3,4)          #3행 4열로 생성\r\n",
        "print(a)\r\n",
        "print('===============')\r\n",
        "print(a[0:2, 1])                        #배열의 0부터 1행까지의 1열 요소들\r\n",
        "print('===============')\r\n",
        "print(a[0:2, 1:3])                      #배열의 0부터 1행까지의 1부터 2열까지의 요소들\r\n",
        "print('===============')\r\n",
        "print(a[2, :])                          #배열의 2행, 처음부터 끝까지 열의 요소들\r\n",
        "print('===============')\r\n",
        "print(a[:,1])                            #배열의 처음부터 끝까지 행과, 1열 요소들\r\n",
        "print('===============')\r\n",
        "a[0:2, 1:3] = 0\r\n",
        "print(a)"
      ],
      "execution_count": null,
      "outputs": [
        {
          "output_type": "stream",
          "text": [
            "[[ 0  1  2  3]\n",
            " [ 4  5  6  7]\n",
            " [ 8  9 10 11]]\n",
            "===============\n",
            "[1 5]\n",
            "===============\n",
            "[[1 2]\n",
            " [5 6]]\n",
            "===============\n",
            "[ 8  9 10 11]\n",
            "===============\n",
            "[1 5 9]\n",
            "===============\n",
            "[[ 0  0  0  3]\n",
            " [ 4  0  0  7]\n",
            " [ 8  9 10 11]]\n"
          ],
          "name": "stdout"
        }
      ]
    },
    {
      "cell_type": "markdown",
      "metadata": {
        "id": "KF8kr5AgM_bc"
      },
      "source": [
        "값의 할당은 앞서 살펴본 것처럼 브로드캐스팅 연산으로 이루어진다. 파이썬 기본형인 리스트와 가장 큰 차이점은 슬라이싱의 결과가 복제본이 아닌 원본이라는 거다. 다음 예제를 보며 확인하자."
      ]
    },
    {
      "cell_type": "code",
      "metadata": {
        "id": "QL7htHgTMXbW",
        "colab": {
          "base_uri": "https://localhost:8080/"
        },
        "outputId": "658a735e-2ad0-49b1-e47e-409dec5cf82f"
      },
      "source": [
        "print(a)\r\n",
        "print('===============')\r\n",
        "aa = a[0:2, 1:3]\r\n",
        "print(aa)\r\n",
        "print('===============')\r\n",
        "aa[0] = 99\r\n",
        "print(a)"
      ],
      "execution_count": null,
      "outputs": [
        {
          "output_type": "stream",
          "text": [
            "[[ 0  0  0  3]\n",
            " [ 4  0  0  7]\n",
            " [ 8  9 10 11]]\n",
            "===============\n",
            "[[0 0]\n",
            " [0 0]]\n",
            "===============\n",
            "[[ 0 99 99  3]\n",
            " [ 4  0  0  7]\n",
            " [ 8  9 10 11]]\n"
          ],
          "name": "stdout"
        }
      ]
    },
    {
      "cell_type": "markdown",
      "metadata": {
        "id": "V6ff3qUZGxR1"
      },
      "source": [
        "이처럼 슬라이싱의 결과 값은 원본 배열의 일부분을 가지고 오기 때문에, 만약 파이썬 리스트처럼 복제본을 얻고 싶다면 ndarray.copy() 함수를 명시적으로 호출해야 한다."
      ]
    },
    {
      "cell_type": "markdown",
      "metadata": {
        "id": "1FdNnS4nHVx_"
      },
      "source": [
        "###3.1.10 펜시 인덱싱\r\n",
        "배열 인덱스에 다른 배열을 전달해서 원하는 요소를 선택하는 방법을 팬시 인덱싱(fancy indexing)이라고 한다. 전달하는 배열에 숫자를 포함하고 있으면 해당 인덱스의 숫자가 출력되고, 불(boolean)값을 포함하면 True인 값만 선택된다. "
      ]
    },
    {
      "cell_type": "code",
      "metadata": {
        "colab": {
          "base_uri": "https://localhost:8080/"
        },
        "id": "aIDikB_VF_Ex",
        "outputId": "47b99f61-be28-4097-d560-b1a007340a65"
      },
      "source": [
        " a = np.arange(5) + 5\r\n",
        " print(a)\r\n",
        " print('===============')\r\n",
        " print(a[[1,3]])\r\n",
        " print('===============')\r\n",
        " print(a[[True, False, True, False, True]])\r\n",
        " "
      ],
      "execution_count": null,
      "outputs": [
        {
          "output_type": "stream",
          "text": [
            "[5 6 7 8 9]\n",
            "===============\n",
            "[6 8]\n",
            "===============\n",
            "[5 7 9]\n"
          ],
          "name": "stdout"
        }
      ]
    },
    {
      "cell_type": "markdown",
      "metadata": {
        "id": "YneJ-KASODRd"
      },
      "source": [
        "NumPy 배열에 비교 연산을 하면 개별 요소들이 조건을 만족하는지 알 수 있다."
      ]
    },
    {
      "cell_type": "code",
      "metadata": {
        "colab": {
          "base_uri": "https://localhost:8080/"
        },
        "id": "0-i4JA08MxNI",
        "outputId": "678266a0-2785-4046-9dba-e4926a25e49f"
      },
      "source": [
        "a = np.arange(10)\r\n",
        "print(a)\r\n",
        "print('===============')\r\n",
        "b = a > 5\r\n",
        "print(b)\r\n",
        "print('===============')\r\n",
        "print(a[b])               ##불 값을 갖는 배열을 인덱스 대신 사용하면 True 값들만 출력됨.\r\n"
      ],
      "execution_count": null,
      "outputs": [
        {
          "output_type": "stream",
          "text": [
            "[0 1 2 3 4 5 6 7 8 9]\n",
            "===============\n",
            "[False False False False False False  True  True  True  True]\n",
            "===============\n",
            "[6 7 8 9]\n",
            "[0 1 2 3 4 5 1 1 1 1]\n"
          ],
          "name": "stdout"
        }
      ]
    },
    {
      "cell_type": "markdown",
      "metadata": {
        "id": "A2DvK_GzPzN5"
      },
      "source": [
        "다차원인 경우 인덱스 배열도 다차원으로 지정할 수 있고, 이때는 교차하는 인덱스의 것이 선택된다."
      ]
    },
    {
      "cell_type": "code",
      "metadata": {
        "colab": {
          "base_uri": "https://localhost:8080/"
        },
        "id": "aJMVMupzPP-b",
        "outputId": "f6a70642-a34d-4d2c-b988-00f707bcf9f9"
      },
      "source": [
        "b = np.arange(12).reshape(3,4)\r\n",
        "print(b)\r\n",
        "print('===============')\r\n",
        "print(b[[0,2]])\r\n",
        "print('===============')\r\n",
        "print(b[[0,2],[2,3]])"
      ],
      "execution_count": null,
      "outputs": [
        {
          "output_type": "stream",
          "text": [
            "[[ 0  1  2  3]\n",
            " [ 4  5  6  7]\n",
            " [ 8  9 10 11]]\n",
            "===============\n",
            "[[ 0  1  2  3]\n",
            " [ 8  9 10 11]]\n",
            "===============\n",
            "[ 2 11]\n"
          ],
          "name": "stdout"
        }
      ]
    },
    {
      "cell_type": "markdown",
      "metadata": {
        "id": "krLAtdP9QXNK"
      },
      "source": [
        "### 3.1.11 병합과 분리\r\n",
        "2개 이상의 NumPy 배열을 병합하는 방법은 크게 두 가지가 있다. 단순히 배열들을 이어 붙여서 크기를 키우는 방법과 새로운 차원을 만들어 서로서로 끼워넣는 방법이다.  \r\n",
        "여기서부터 축(axis)라는 용어를 사용하게 된다. NumPy 배열의 shape 속성을 확인하면 튜플 형식으로 몇 개의 숫자가 나오는데, 각 숫자의 개수는 차원을 의미한다. 예를 들어 어느 배열의 shape이 (10,20,3) 이면 3개의 축이 있고, 각각 0, 1, 2번 축이 된다. 병합에 대한 함수는 다음과 같다.\r\n",
        "\r\n",
        "* numpy.hstack(arrays) : arrays 배열을 수평으로 병합\r\n",
        "* numpy.vstack(arrays) : arrays 배열을 수직으로 병합\r\n",
        "* numpy.concatenate(arrays, axis=0) : arrays 배열을 지정한 축 기준으로 병합\r\n",
        "* numpy.stack(arrays, axis=0) : arrays 배열을 새로운 축으로 병합\r\n",
        "  - arrays : 병합 대상 배열(튜플)\r\n",
        "  - axis : 작업할 대상 축 번호"
      ]
    },
    {
      "cell_type": "code",
      "metadata": {
        "colab": {
          "base_uri": "https://localhost:8080/"
        },
        "id": "i6oQGAp_QNcc",
        "outputId": "6b368239-0ed3-48df-e7ba-ed7c95d635ac"
      },
      "source": [
        "a = np.arange(4).reshape(2,2)\r\n",
        "print(a)\r\n",
        "print('===============')\r\n",
        "b = np.arange(10, 14).reshape(2,2)\r\n",
        "print(b)\r\n",
        "print('===============')\r\n",
        "print(np.vstack((a,b)))\r\n",
        "print('===============')\r\n",
        "print(np.hstack((a,b)))\r\n",
        "print('===============')\r\n",
        "print(np.concatenate((a,b), 0))\r\n",
        "print('===============')\r\n",
        "print(np.concatenate((a,b), 1))\r\n",
        "\r\n"
      ],
      "execution_count": null,
      "outputs": [
        {
          "output_type": "stream",
          "text": [
            "[[0 1]\n",
            " [2 3]]\n",
            "===============\n",
            "[[10 11]\n",
            " [12 13]]\n",
            "===============\n",
            "[[ 0  1]\n",
            " [ 2  3]\n",
            " [10 11]\n",
            " [12 13]]\n",
            "===============\n",
            "[[ 0  1 10 11]\n",
            " [ 2  3 12 13]]\n",
            "===============\n",
            "[[ 0  1]\n",
            " [ 2  3]\n",
            " [10 11]\n",
            " [12 13]]\n",
            "===============\n",
            "[[ 0  1 10 11]\n",
            " [ 2  3 12 13]]\n"
          ],
          "name": "stdout"
        }
      ]
    },
    {
      "cell_type": "markdown",
      "metadata": {
        "id": "TZebbtHWNF-m"
      },
      "source": [
        "이처럼 기존 배열에서 병합을 시키는 함수가 있었고, 0축이 수직, 1축이 수평을 뜻하는 것을 알 수 있었다. numpy.stack()은 새로운 축에 병합을 시키고, 축을 정하지 않으면 0번을 의미하고, -1은 마지막 축 번호를 의미한다."
      ]
    },
    {
      "cell_type": "code",
      "metadata": {
        "colab": {
          "base_uri": "https://localhost:8080/"
        },
        "id": "p0q-H_xeMNxm",
        "outputId": "599f72c4-16d4-40fa-eea9-e142c4df65f6"
      },
      "source": [
        "a = np.arange(12).reshape(4,3)\r\n",
        "b = np.arange(10, 130, 10).reshape(4,3)\r\n",
        "print(a)\r\n",
        "print('===============')\r\n",
        "print(b)\r\n",
        "print('===============')\r\n",
        "c = np.stack((a,b), 0)\r\n",
        "print(c.shape)\r\n",
        "print(c)"
      ],
      "execution_count": null,
      "outputs": [
        {
          "output_type": "stream",
          "text": [
            "[[ 0  1  2]\n",
            " [ 3  4  5]\n",
            " [ 6  7  8]\n",
            " [ 9 10 11]]\n",
            "===============\n",
            "[[ 10  20  30]\n",
            " [ 40  50  60]\n",
            " [ 70  80  90]\n",
            " [100 110 120]]\n",
            "===============\n",
            "(2, 4, 3)\n",
            "[[[  0   1   2]\n",
            "  [  3   4   5]\n",
            "  [  6   7   8]\n",
            "  [  9  10  11]]\n",
            "\n",
            " [[ 10  20  30]\n",
            "  [ 40  50  60]\n",
            "  [ 70  80  90]\n",
            "  [100 110 120]]]\n"
          ],
          "name": "stdout"
        }
      ]
    },
    {
      "cell_type": "markdown",
      "metadata": {
        "id": "XM0tK5DfSL3d"
      },
      "source": [
        "위 코드는 (4,3) 배열 2개를 np.stack((a,b), 0) 함수로 병합하고 있고, 원래 4행 3열인 2차원 배열은 병합하고 나면 3차원이 된다. 따라서 shape 함수로 축을 확인해 보면, (2, 4, 3)으로 만들어진다. 다음은 같은 배열을 축 번호 1과 2로 각각 생성한 코드다."
      ]
    },
    {
      "cell_type": "code",
      "metadata": {
        "colab": {
          "base_uri": "https://localhost:8080/"
        },
        "id": "ikXKk1MrPpF5",
        "outputId": "819ee39d-5119-40c6-cc5a-a1e425dd5255"
      },
      "source": [
        "d = np.stack((a,b), 1)              #수평 축으로 병합\r\n",
        "print(d.shape)\r\n",
        "print(d)\r\n",
        "print('===============')\r\n",
        "e = np.stack((a,b), 2)              #2번째 축으로 병합\r\n",
        "print(e.shape)\r\n",
        "print(e)\r\n",
        "print('===============')\r\n"
      ],
      "execution_count": null,
      "outputs": [
        {
          "output_type": "stream",
          "text": [
            "(4, 2, 3)\n",
            "[[[  0   1   2]\n",
            "  [ 10  20  30]]\n",
            "\n",
            " [[  3   4   5]\n",
            "  [ 40  50  60]]\n",
            "\n",
            " [[  6   7   8]\n",
            "  [ 70  80  90]]\n",
            "\n",
            " [[  9  10  11]\n",
            "  [100 110 120]]]\n",
            "===============\n",
            "(4, 3, 2)\n",
            "[[[  0  10]\n",
            "  [  1  20]\n",
            "  [  2  30]]\n",
            "\n",
            " [[  3  40]\n",
            "  [  4  50]\n",
            "  [  5  60]]\n",
            "\n",
            " [[  6  70]\n",
            "  [  7  80]\n",
            "  [  8  90]]\n",
            "\n",
            " [[  9 100]\n",
            "  [ 10 110]\n",
            "  [ 11 120]]]\n",
            "===============\n"
          ],
          "name": "stdout"
        }
      ]
    },
    {
      "cell_type": "markdown",
      "metadata": {
        "id": "dgDTTNMOVVZf"
      },
      "source": [
        "위 코드는 (4,3)배열인 a와 b를 병합했다. 첫 번째는 1번 축(수평)으로 병합하였고, 두 번째는 2번 축으로 병합한 것을 볼 수있다. 이 함수들은 이미지 작업을 완료하고 작업 전과 후 이미지를 병합해서 나란히 출력할 때 자주 쓴다.  \r\n",
        "배열을 분리할 때 사용하는 함수는 다음과 같다.\r\n",
        "* numpy.vsplit(array, indice) : array 배열을 수평으로 분리\r\n",
        "* numpy.hsplit(array, indice) : array 배열을 수직으로 분리\r\n",
        "* numpy.split(array, indice, axis=0) : array 배열을 axis 축으로 분리\r\n",
        "  - array : 분리할 배열\r\n",
        "  - indice : 분리할 개수 또는 인덱스\r\n",
        "  - axis : 기준 축 번호  \r\n",
        "  \r\n",
        "indice는 어떻게 나눌지를 정하는 인자인데, 정수 또는 1차원 배열을 사용할 수 있다. 정수를 전달하면 배열을 그 수로 나누고, 1차원 배열을 전달하면 나누고자 하는 인덱스로 사용한다. "
      ]
    },
    {
      "cell_type": "code",
      "metadata": {
        "colab": {
          "base_uri": "https://localhost:8080/"
        },
        "id": "gwGYTzEEUFIq",
        "outputId": "48cbb0cd-7b0b-4f7c-c25b-a39a00091d3a"
      },
      "source": [
        "a = np.arange(12)\r\n",
        "print(a)\r\n",
        "print('===============')\r\n",
        "print(np.hsplit(a, 3))            #배열 개수를 3개로 나눔\r\n",
        "print('===============')\r\n",
        "print(np.hsplit(a, [3,6]))        #[0:3], [3:6], [6:]과 같은 의미\r\n",
        "print('===============')\r\n",
        "print(np.hsplit(a, [3,6,9]))      #나누고 싶은 구역들의 인덱스\r\n",
        "print('===============')\r\n",
        "print(np.split(a,3,0))            #배열 개수를 3개로 나눔, 0축\r\n",
        "print('===============')\r\n",
        "print(np.split(a, [3,6,9], 0))    #나누고 싶은 구역들의 인덱스. 0축"
      ],
      "execution_count": null,
      "outputs": [
        {
          "output_type": "stream",
          "text": [
            "[ 0  1  2  3  4  5  6  7  8  9 10 11]\n",
            "===============\n",
            "[array([0, 1, 2, 3]), array([4, 5, 6, 7]), array([ 8,  9, 10, 11])]\n",
            "===============\n",
            "[array([0, 1, 2]), array([3, 4, 5]), array([ 6,  7,  8,  9, 10, 11])]\n",
            "===============\n",
            "[array([0, 1, 2]), array([3, 4, 5]), array([6, 7, 8]), array([ 9, 10, 11])]\n",
            "===============\n",
            "[array([0, 1, 2, 3]), array([4, 5, 6, 7]), array([ 8,  9, 10, 11])]\n",
            "===============\n",
            "[array([0, 1, 2]), array([3, 4, 5]), array([6, 7, 8]), array([ 9, 10, 11])]\n"
          ],
          "name": "stdout"
        }
      ]
    },
    {
      "cell_type": "markdown",
      "metadata": {
        "id": "ootir5-Khatz"
      },
      "source": [
        "위 코드는 1차원 배열을 사용했으므로 numpy.hsplit() 함수만 사용할 수 있다. 1차원인 경우 축 번호도 1개, 즉 0만 사용할 수 있으므로 numpy.split()함수에서도 축(axis)에 사용할 수 있는 값은 0뿐이며, 같은 결과를 반환한다. 다차원일때 코드를 보자."
      ]
    },
    {
      "cell_type": "code",
      "metadata": {
        "colab": {
          "base_uri": "https://localhost:8080/"
        },
        "id": "wcoKZe8ecOiM",
        "outputId": "757150f7-29a1-47af-9a83-2f7f700509cd"
      },
      "source": [
        "b = np.arange(12).reshape(4,3)\r\n",
        "print(b)\r\n",
        "print('===============')\r\n",
        "print(np.split(b, [1], 1))          #1열 기준으로 1번축으로 분리"
      ],
      "execution_count": null,
      "outputs": [
        {
          "output_type": "stream",
          "text": [
            "[[ 0  1  2]\n",
            " [ 3  4  5]\n",
            " [ 6  7  8]\n",
            " [ 9 10 11]]\n",
            "===============\n",
            "[array([[0],\n",
            "       [3],\n",
            "       [6],\n",
            "       [9]]), array([[ 1,  2],\n",
            "       [ 4,  5],\n",
            "       [ 7,  8],\n",
            "       [10, 11]])]\n"
          ],
          "name": "stdout"
        }
      ]
    },
    {
      "cell_type": "markdown",
      "metadata": {
        "id": "Vlqs9jZrkFtX"
      },
      "source": [
        "### 3.1.12 검색\r\n",
        "NumPy 배열을 사용하는 이유는 수많은 데이터를 쉽고 빠르게 다루려는 이유가 가장 크며, 이미지 작업도 마찬가지다. 그래서 NumPy를 쓰다 보면 배열 안에서 관심 있는 데이터만을 찾거나 찾아서 바꾸는 일이 자주 필요한데, 이와 관련한 함수는 다음과 같다.\r\n",
        "* ret = numpy.where(condition [, t, f]) : 조건에 맞는 요소를 찾기\r\n",
        "   - ret : 검색 조건에 맞는 요소의 인덱스 또는 변경된 값으로 채워진 배열(튜플)\r\n",
        "   - condition : 검색에 사용할 조건식\r\n",
        "   - t, f : 조건에 따라 지정할 값 또는 배열, 배열의 경우 조건에 사용한 배열과 같은 shape\r\n",
        "    - t : 조건에 맞는 갑셍 지정할 값이나 배열\r\n",
        "    - f : 조건에 틀린 값에 지정할 값이나 배열\r\n",
        "* numpy.nonzero(array) : array에서 요소 중에 0이 아닌 인덱스들을 반환(튜플)\r\n",
        "*numpy.all(array [,axis]) : array의 모든 요소가 True인지 검색\r\n",
        "  - array : 검색 대상 배열\r\n",
        "  - axis : 검색할 기준 축, 생략하면 모든 요소 검색, 지정하면 축 개수별로 결과 반환\r\n",
        "* numpy.any(array [, axis]) : array의 어느 요소이든 True가 있는지 검색\r\n",
        "\r\n",
        "아래 코드는 배열에서 조건에 맞는 인덱스를 찾아오는 사례, 그리고 찾은 값을 새로운 값으로 변경한 배열을 구하는 사례를 보여준다.\r\n",
        "          "
      ]
    },
    {
      "cell_type": "code",
      "metadata": {
        "colab": {
          "base_uri": "https://localhost:8080/"
        },
        "id": "XWGHAU2DkDXG",
        "outputId": "630441f6-44b5-49c1-d982-4be20e5e480f"
      },
      "source": [
        "a = np.arange(10, 20)\r\n",
        "print(a)\r\n",
        "print('===============')\r\n",
        "print(np.where(a > 15))               #15보다 큰 배열의 인덱스를 반환\r\n",
        "print('===============')\r\n",
        "print(np.where(a > 15, 1, 0))         #15보다 작은 값은 0으로, 큰 값은 1로 반환"
      ],
      "execution_count": null,
      "outputs": [
        {
          "output_type": "stream",
          "text": [
            "[10 11 12 13 14 15 16 17 18 19]\n",
            "===============\n",
            "(array([6, 7, 8, 9]),)\n",
            "===============\n",
            "[0 0 0 0 0 0 1 1 1 1]\n"
          ],
          "name": "stdout"
        }
      ]
    },
    {
      "cell_type": "markdown",
      "metadata": {
        "id": "nHLnnjPJocHC"
      },
      "source": [
        "만약 조건에 맞는 요소만 특정한 값으로 변경하고 맞지 않는 요소는 기존 값을 그대로 갖게 하려면 다음과 같은 코드로 할 수 있다."
      ]
    },
    {
      "cell_type": "code",
      "metadata": {
        "colab": {
          "base_uri": "https://localhost:8080/"
        },
        "id": "Oqzb8rMFnery",
        "outputId": "d94e1d4c-01d8-4578-fca1-aeffddb27c7a"
      },
      "source": [
        "print(a)\r\n",
        "print('===============')\r\n",
        "print(np.where(a>15, 99, a))\r\n",
        "print('===============')\r\n",
        "print(np.where(a>15, a, 0))         #15보다 큰 값은 그대로 반환"
      ],
      "execution_count": null,
      "outputs": [
        {
          "output_type": "stream",
          "text": [
            "[10 11 12 13 14 15 16 17 18 19]\n",
            "===============\n",
            "[10 11 12 13 14 15 99 99 99 99]\n",
            "===============\n",
            "[ 0  0  0  0  0  0 16 17 18 19]\n"
          ],
          "name": "stdout"
        }
      ]
    },
    {
      "cell_type": "markdown",
      "metadata": {
        "id": "JrccoCfco1RR"
      },
      "source": [
        "다차원 배열인 경우 원하는 요소를 검색만 한다면 해당하는 요소의 인덱스는 여러개를 반환한다. "
      ]
    },
    {
      "cell_type": "code",
      "metadata": {
        "colab": {
          "base_uri": "https://localhost:8080/"
        },
        "id": "O8H_81-kor7X",
        "outputId": "e4e284f0-12fb-4e78-d182-94971eb9844c"
      },
      "source": [
        "b = np.arange(12).reshape(3,4)\r\n",
        "print(b)\r\n",
        "print('===============')\r\n",
        "coords = np.where(b>6)\r\n",
        "print(coords)\r\n",
        "print('===============')\r\n",
        "print(np.stack((coords[0], coords[1]), -1))       #떨어진 좌표들을 병합하기위해 사용"
      ],
      "execution_count": null,
      "outputs": [
        {
          "output_type": "stream",
          "text": [
            "[[ 0  1  2  3]\n",
            " [ 4  5  6  7]\n",
            " [ 8  9 10 11]]\n",
            "===============\n",
            "(array([1, 2, 2, 2, 2]), array([3, 0, 1, 2, 3]))\n",
            "===============\n",
            "[[1 3]\n",
            " [2 0]\n",
            " [2 1]\n",
            " [2 2]\n",
            " [2 3]]\n"
          ],
          "name": "stdout"
        }
      ]
    },
    {
      "cell_type": "markdown",
      "metadata": {
        "id": "ZIxMmd6zpavv"
      },
      "source": [
        "위 코드는 3행 4열의 배열에서 6보다 큰 수만 검색하여 인덱스를 반환한다. 검색 결과는 행 번호(axis=0)만 갖는 배열과 열 번호(axis=1)만 갖는 배열 2개를 반환한다. 이때 따로 떨어진 2개의 배열을 짝지어진 좌표(x,y) 모양으로 얻으려면 앞서 살펴본 stack() 함수를 이용해서 병합하면 된다.   \r\n",
        "배열 요소 중에 0이 아닌 요소를 찾을 때는 numpy.nonzero() 함수를 사용하면 된다. "
      ]
    },
    {
      "cell_type": "code",
      "metadata": {
        "colab": {
          "base_uri": "https://localhost:8080/"
        },
        "id": "2gNDgEZUpZMV",
        "outputId": "a87639ef-2ba8-4a90-8890-734bb2187e54"
      },
      "source": [
        "z = np.array([0, 1, 2, 0, 1, 2])\r\n",
        "print(np.nonzero(z))\r\n",
        "print('===============')\r\n",
        "zz = np.array([[0,1,2], [1,2,0], [2,0,1]])\r\n",
        "print(zz)\r\n",
        "print('===============')\r\n",
        "coords = np.nonzero(zz)                           #nonzero 함수로 0이 아닌 요소의 인덱스를 반환\r\n",
        "print(coords)\r\n",
        "print('===============')\r\n",
        "print(np.stack((coords[0], coords[1]), -1))"
      ],
      "execution_count": null,
      "outputs": [
        {
          "output_type": "stream",
          "text": [
            "(array([1, 2, 4, 5]),)\n",
            "===============\n",
            "[[0 1 2]\n",
            " [1 2 0]\n",
            " [2 0 1]]\n",
            "===============\n",
            "(array([0, 0, 1, 1, 2, 2]), array([1, 2, 0, 1, 0, 2]))\n",
            "===============\n",
            "[[0 1]\n",
            " [0 2]\n",
            " [1 0]\n",
            " [1 1]\n",
            " [2 0]\n",
            " [2 2]]\n"
          ],
          "name": "stdout"
        }
      ]
    },
    {
      "cell_type": "markdown",
      "metadata": {
        "id": "KiJ8lu3tt3z9"
      },
      "source": [
        "numpy.nonzero() 함수는 True나 False 같은 불 값에 대해서는 False를 0으로 간주하고 동작하므로 numpy.where() 함수처럼 조건을 만족하는 요소의 인덱스를 찾을 수도 있다. "
      ]
    },
    {
      "cell_type": "code",
      "metadata": {
        "colab": {
          "base_uri": "https://localhost:8080/"
        },
        "id": "zaWUxPkMrXY8",
        "outputId": "c5addeaa-3820-4353-d3ae-eb67f4f54ef7"
      },
      "source": [
        "print(a)\r\n",
        "print('===============')\r\n",
        "print(np.nonzero(a>15))\r\n",
        "print('===============')\r\n",
        "print(np.where(a>15))"
      ],
      "execution_count": null,
      "outputs": [
        {
          "output_type": "stream",
          "text": [
            "[10 11 12 13 14 15 16 17 18 19]\n",
            "===============\n",
            "(array([6, 7, 8, 9]),)\n",
            "===============\n",
            "(array([6, 7, 8, 9]),)\n"
          ],
          "name": "stdout"
        }
      ]
    },
    {
      "cell_type": "markdown",
      "metadata": {
        "id": "PA4avvd8uoO5"
      },
      "source": [
        "NumPy 배열에 모든 요소가 참 또는 거짓인지 확인할 때는 all() 함수를 사용할 수 있다."
      ]
    },
    {
      "cell_type": "code",
      "metadata": {
        "colab": {
          "base_uri": "https://localhost:8080/"
        },
        "id": "2QqNgwkduYJn",
        "outputId": "65f2708d-ce06-4283-8864-b16fe743b5ef"
      },
      "source": [
        "t = np.array([True, True, True])\r\n",
        "print(np.all(t))\r\n",
        "print('===============')\r\n",
        "t[1] = False                  #t[1] 값을 False로 변경\r\n",
        "print(np.all(t))\r\n",
        "print('===============')\r\n",
        "tt = np.array([[True, True], [False, True], [True, True]])\r\n",
        "print(tt)\r\n",
        "print('===============')\r\n",
        "print(np.all(tt, 0))          #0축으로 모든 요소가 참인지 거짓인지 확인\r\n",
        "print('===============')\r\n",
        "print(np.all(tt, 1))          #1축으로 모든 요소가 참인지 거짓인지 확인"
      ],
      "execution_count": null,
      "outputs": [
        {
          "output_type": "stream",
          "text": [
            "True\n",
            "===============\n",
            "False\n",
            "===============\n",
            "[[ True  True]\n",
            " [False  True]\n",
            " [ True  True]]\n",
            "===============\n",
            "[False  True]\n",
            "===============\n",
            "[ True False  True]\n"
          ],
          "name": "stdout"
        }
      ]
    },
    {
      "cell_type": "markdown",
      "metadata": {
        "id": "gtIwj-sWwZLf"
      },
      "source": [
        "조건식 연산을 이용하여 np.where(), np.all() 함수를 이용하여 2개의 배열이 서로 같은지 다른지를 확인할 수 있다."
      ]
    },
    {
      "cell_type": "code",
      "metadata": {
        "colab": {
          "base_uri": "https://localhost:8080/"
        },
        "id": "AeBzyKrKvH9e",
        "outputId": "ad87ce4e-e26b-4eb2-ddcf-984b77297669"
      },
      "source": [
        "a = np.arange(10)\r\n",
        "b = np.arange(10)\r\n",
        "a[5] = 6\r\n",
        "\r\n",
        "print(a==b)\r\n",
        "print('===============')\r\n",
        "print(np.all(a==b))         #모든 요소가 같은 값인지 아닌지 확인\r\n",
        "print('===============')\r\n",
        "print(np.where(a!=b))       #다른 요소의 인덱스를 반환"
      ],
      "execution_count": null,
      "outputs": [
        {
          "output_type": "stream",
          "text": [
            "[ True  True  True  True  True False  True  True  True  True]\n",
            "===============\n",
            "False\n",
            "===============\n",
            "(array([5]),)\n"
          ],
          "name": "stdout"
        }
      ]
    },
    {
      "cell_type": "markdown",
      "metadata": {
        "id": "3jdc_BX5xL3B"
      },
      "source": [
        "이미지 작업에서는 이전 프레임과 다음 프레임 간의 픽셀 값의 변화가 있는지, 변화가 있는 픽셀의 위치가 어디인지를 찾는 방법으로 움직임을 감지하거나 객체 추적과 같은 작업을 하는 데 이 함수들을 사용한다. "
      ]
    },
    {
      "cell_type": "markdown",
      "metadata": {
        "id": "IdAXZQzBxZC6"
      },
      "source": [
        "### 3.1.13 기초 통계 함수\r\n",
        "배열의 값이 하나하나를 확인할 수 없을 만큼 많을 때는 평균, 최대 값, 최소 값 같은 통계값들이 의미 있는 정보가 될 때가 많다. 대표적인 함수를 보면 다음과 같다.\r\n",
        "* numpy.sum(array [, axis]): 배열의 합계 계산\r\n",
        "* numpy.mean(array [, axis]) : 배열의 평균 계산\r\n",
        "* numpy.amin(array [ axis]) : 배열의 최소 값 계산\r\n",
        "* numpy.min(array [,axis]) : numpy.amin()과 동일\r\n",
        "* numpy.amax(array, [, axis]) : 배열의 최대 값 계산\r\n",
        "* numpy.max(array [, axis]) : numpy.amax()와 동일\r\n",
        "  * array : 계산의 대상 배열\r\n",
        "  * axis : 계산 기준 축, 생략하면 모든 요소를 대상\r\n"
      ]
    },
    {
      "cell_type": "code",
      "metadata": {
        "colab": {
          "base_uri": "https://localhost:8080/"
        },
        "id": "lI34HmlqwwKQ",
        "outputId": "71b0adc0-e96f-4db4-cf3b-0cf694e62cf6"
      },
      "source": [
        "a = np.arange(12).reshape(3, 4)\r\n",
        "print(a)\r\n",
        "print('===============')\r\n",
        "print(np.sum(a))\r\n",
        "print('===============')\r\n",
        "print(np.sum(a, 0))             #열을 기준으로 합을 구함\r\n",
        "print('===============')\r\n",
        "print(np.sum(a, 1))             #행을 기준으로 합을 구함 "
      ],
      "execution_count": null,
      "outputs": [
        {
          "output_type": "stream",
          "text": [
            "[[ 0  1  2  3]\n",
            " [ 4  5  6  7]\n",
            " [ 8  9 10 11]]\n",
            "===============\n",
            "66\n",
            "===============\n",
            "[12 15 18 21]\n",
            "===============\n",
            "[ 6 22 38]\n"
          ],
          "name": "stdout"
        }
      ]
    },
    {
      "cell_type": "markdown",
      "metadata": {
        "id": "mRDv4jnY4bbT"
      },
      "source": [
        "위 코드는 행과 열을 기준으로 각각 합산하는 것을 볼 수 있다.  \r\n",
        "다음 코드는 같은 방법으로 평균, 최소 값, 최대 값을 각각 구하고 있다."
      ]
    },
    {
      "cell_type": "code",
      "metadata": {
        "colab": {
          "base_uri": "https://localhost:8080/"
        },
        "id": "GD5la9TI4S9-",
        "outputId": "add44315-2d89-4d19-d1fc-c87d44b1aafc"
      },
      "source": [
        "print(np.mean(a))\r\n",
        "print('===============')\r\n",
        "print(np.mean(a,0))       #열을 기준으로 평균 값을 구함\r\n",
        "print('===============')\r\n",
        "print(np.mean(a,1))       #행을 기준으로 평균 값을 구함\r\n",
        "print('===============')\r\n",
        "print(np.amin(a, 0))      #열을 기준으로 최소 값을 구함\r\n",
        "print('===============')\r\n",
        "print(np.amin(a, 1))      #행을 기준으로 최소 값을 구함\r\n",
        "print('===============')\r\n",
        "print(np.amax(a, 0))      #열을 기준으로 최대 값을 구함\r\n",
        "print('===============')\r\n",
        "print(np.amax(a, 1))      #행을 기준으로 최대 값을 구함"
      ],
      "execution_count": null,
      "outputs": [
        {
          "output_type": "stream",
          "text": [
            "5.5\n",
            "===============\n",
            "[4. 5. 6. 7.]\n",
            "===============\n",
            "[1.5 5.5 9.5]\n",
            "===============\n",
            "[0 1 2 3]\n",
            "===============\n",
            "[0 4 8]\n",
            "===============\n",
            "[ 8  9 10 11]\n",
            "===============\n",
            "[ 3  7 11]\n"
          ],
          "name": "stdout"
        }
      ]
    },
    {
      "cell_type": "markdown",
      "metadata": {
        "id": "EUr23LZf5mLG"
      },
      "source": [
        "### 3.1.14 이미지 생성\r\n",
        "지금까지 NumPy를 사용하기 위한 기본적인 내용이였고, 다음 코드는 지금까지 다룬 지식으로 간단한 이미지를 생성해 보는 사례이다."
      ]
    },
    {
      "cell_type": "code",
      "metadata": {
        "colab": {
          "base_uri": "https://localhost:8080/",
          "height": 137
        },
        "id": "xg6rxfNx41Wr",
        "outputId": "6c8dbcd3-c8c5-4ad5-8de9-eab39f3c0f5d"
      },
      "source": [
        "#NumPy 배열로 체크무늬 그레이(흑백) 스케일 이미지 생성\r\n",
        "import cv2\r\n",
        "import numpy as np\r\n",
        "from google.colab.patches import cv2_imshow\r\n",
        "\r\n",
        "img = np.zeros((120,120), dtype=np.uint8)       # 120x120 2차원배열생성, 검은색혹백이미지\r\n",
        "img[25:35, :] = 45                              # 25~35행모든열에 45할당\r\n",
        "img[55:65, :] =115                              # 55-65행모든 열에 115 할당\r\n",
        "img[85:95, :] = 160                             # 85~95행모든 열에 160 할당\r\n",
        "img[:, 35:45] = 205                             # 모든 행 35〜45 열에 205 할당\r\n",
        "img[:, 75:85] = 255                             # 모든 행 75〜85열에 255할당\r\n",
        "cv2_imshow(img)\r\n",
        "cv2.waitKey(0)\r\n",
        "cv2.destroyAllWindows()"
      ],
      "execution_count": null,
      "outputs": [
        {
          "output_type": "display_data",
          "data": {
            "image/png": "[encoded data removed]",
            "text/plain": [
              "<PIL.Image.Image image mode=L size=120x120 at 0x7F3498806A90>"
            ]
          },
          "metadata": {
            "tags": []
          }
        }
      ]
    },
    {
      "cell_type": "code",
      "metadata": {
        "colab": {
          "base_uri": "https://localhost:8080/",
          "height": 137
        },
        "id": "pakn7KD563ax",
        "outputId": "98983071-8060-4e3c-cb6b-7eeacf8a5402"
      },
      "source": [
        "#Numpy 배열로 체크무늬 BGR 스케일 이미지 생성\r\n",
        "import cv2\r\n",
        "import numpy as np\r\n",
        "from google.colab.patches import cv2_imshow\r\n",
        "\r\n",
        "img = np.zeros((120,120, 3), dtype=np.uint8)\r\n",
        "img[25:35, :] = [255,0,0]                         #25~35행 모든 열에 파란색 할당\r\n",
        "img[55:65, :] = [0,255,0]                         #55~65행 모든 열에 초록색 할당\r\n",
        "img[85:95, :] = [0,0,255]                         #85~95행 모든 열에 빨간색 할당\r\n",
        "img[:, 35:45] = [255,255,0]                       #모든 행 35~45 열에 하늘색 할당\r\n",
        "img[:, 75:85] = [255,0,255]                       #모든 행 75~85 열에 분홍색 할당\r\n",
        "cv2_imshow(img)\r\n",
        "cv2.waitKey(0)\r\n",
        "cv2.destroyAllWindows()"
      ],
      "execution_count": null,
      "outputs": [
        {
          "output_type": "display_data",
          "data": {
            "image/png": "[encoded data removed]",
            "text/plain": [
              "<PIL.Image.Image image mode=RGB size=120x120 at 0x7FB796D3AAC8>"
            ]
          },
          "metadata": {
            "tags": []
          }
        }
      ]
    },
    {
      "cell_type": "markdown",
      "metadata": {
        "id": "sjwoeQY09gQ_"
      },
      "source": [
        "## 3.2 Matplotlib"
      ]
    },
    {
      "cell_type": "code",
      "metadata": {
        "id": "zzOp1OZ19WqN"
      },
      "source": [
        "import matplotlib\r\n",
        "import matplotlib.pyplot as plt"
      ],
      "execution_count": null,
      "outputs": []
    },
    {
      "cell_type": "markdown",
      "metadata": {
        "id": "1OBlYKR14L4g"
      },
      "source": [
        "### 3.2.2 plot \r\n",
        "그래프를 그리는 가장 간단한 방법은 plot() 함수를 사용하는 것이다. 1차원 배열을 인자로 전달하면 배열의 인덱스를 x 좌표로, 배열의 값을 y 좌표로 써서 그래프를 그린다. 아래 코드는 가장 간단한 방법으로 그래프를 그리는 예제이다."
      ]
    },
    {
      "cell_type": "code",
      "metadata": {
        "colab": {
          "base_uri": "https://localhost:8080/",
          "height": 265
        },
        "id": "nU4Gto2e3614",
        "outputId": "46f74b1c-6a45-4b0f-9ae6-5a17134dd667"
      },
      "source": [
        "import numpy as np\r\n",
        "import matplotlib.pyplot as plt\r\n",
        "\r\n",
        "a = np.array([2,6,7,3,12,8,4,5])      #배열 생성\r\n",
        "plt.plot(a)                           #plot 생성\r\n",
        "plt.show()                            #plot 그리기"
      ],
      "execution_count": null,
      "outputs": [
        {
          "output_type": "display_data",
          "data": {
            "image/png": "[encoded data removed]",
            "text/plain": [
              "<Figure size 432x288 with 1 Axes>"
            ]
          },
          "metadata": {
            "tags": [],
            "needs_background": "light"
          }
        }
      ]
    },
    {
      "cell_type": "markdown",
      "metadata": {
        "id": "QxCGDW_v47hD"
      },
      "source": [
        "두 배열의 상관관계를 표시하려면 plot() 함수의 인자로 배열을 순차적으로 전달하면 된다. 그 예시는 다음과 같다."
      ]
    },
    {
      "cell_type": "code",
      "metadata": {
        "colab": {
          "base_uri": "https://localhost:8080/",
          "height": 265
        },
        "id": "7zCe03I44w-P",
        "outputId": "8d26b17e-f7a3-4ecc-dcf2-68225d4a479f"
      },
      "source": [
        "import numpy as np\r\n",
        "import matplotlib.pyplot as plt\r\n",
        "\r\n",
        "x = np.arange(10)         #0,1,2,3,4,5,6,7,8,9\r\n",
        "y = x**2                  #0,1,4,9,16,25,36,49,64,81\r\n",
        "plt.plot(x,y)             #plot 생성\r\n",
        "plt.show()                #plot 화면에 표시"
      ],
      "execution_count": null,
      "outputs": [
        {
          "output_type": "display_data",
          "data": {
            "image/png": "[encoded data removed]",
            "text/plain": [
              "<Figure size 432x288 with 1 Axes>"
            ]
          },
          "metadata": {
            "tags": [],
            "needs_background": "light"
          }
        }
      ]
    },
    {
      "cell_type": "markdown",
      "metadata": {
        "id": "LH_5kK1A5Wmr"
      },
      "source": [
        "### 3.2.3 color와 style\r\n",
        "그래프 선에 색상과 스타일을 지정할 수 있다. plot()함수의 마지막 인자에 아래의 색상 기호 중 하나를 선택해서 문자로 전달하면 된다.\r\n",
        "* 색상기호\r\n",
        "  * b : 파란색\r\n",
        "  * g : 초록색\r\n",
        "  * r : 빨간색\r\n",
        "  * c : 청록색\r\n",
        "  * m : 자홍색\r\n",
        "  * y : 노란색\r\n",
        "  * k : 검은색\r\n",
        "  * w : 흰색\r\n",
        "\r\n",
        "다음 예제를 보자."
      ]
    },
    {
      "cell_type": "code",
      "metadata": {
        "colab": {
          "base_uri": "https://localhost:8080/",
          "height": 265
        },
        "id": "6ASfZLO_5UfH",
        "outputId": "b1c18c0a-b0b6-4447-aa0f-2c8144f8b92b"
      },
      "source": [
        "import numpy as np\r\n",
        "import matplotlib.pyplot as plt\r\n",
        "\r\n",
        "x = np.arange(10)         #0,1,2,3,4,5,6,7,8,9\r\n",
        "y = x**2                  #0,1,4,9,16,25,36,49,64,81\r\n",
        "plt.plot(x,y, 'r')             #plot 생성\r\n",
        "plt.show()                #plot 화면에 표시"
      ],
      "execution_count": null,
      "outputs": [
        {
          "output_type": "display_data",
          "data": {
            "image/png": "[encoded data removed]",
            "text/plain": [
              "<Figure size 432x288 with 1 Axes>"
            ]
          },
          "metadata": {
            "tags": [],
            "needs_background": "light"
          }
        }
      ]
    },
    {
      "cell_type": "markdown",
      "metadata": {
        "id": "6qluhrhW6ErK"
      },
      "source": [
        "색상과 함께 스타일도 지정할 수 있는데, 다음의 스타일 기호 중 하나를 색상 값에 이어 붙여서 사용한다.\r\n",
        "* -(실선) : --(이음선\r\n",
        "* -.(점 이음선) : :(점선)\r\n",
        "* .(점) : ,(픽셀)\r\n",
        "* o(원) : v(역삼각형)\r\n",
        "* ^(정삼각형) : <(좌삼각형)\r\n",
        "* \\>(우삼각형) : 1(작은 역삼각형)\r\n",
        "* 2(작은 정삼각형) : 3(작은 좌 삼각형)\r\n",
        "* 4(작은 우삼각형) : s(사각형)\r\n",
        "* p(오각형) : *(별표)\r\n",
        "* h(육각형) : +(더하기 표)\r\n",
        "* D(다이아몬드 표) : x(엑스 표)\r\n",
        "\r\n"
      ]
    },
    {
      "cell_type": "code",
      "metadata": {
        "colab": {
          "base_uri": "https://localhost:8080/",
          "height": 265
        },
        "id": "0hXeNtak6C8p",
        "outputId": "efabe937-caa3-4130-d262-849da7a6ea47"
      },
      "source": [
        "import numpy as np\r\n",
        "import matplotlib.pyplot as plt\r\n",
        "\r\n",
        "x = np.arange(10)         \r\n",
        "f1 = x*5\r\n",
        "f2 = x **2\r\n",
        "f3 = x **2 + x*2\r\n",
        "\r\n",
        "plt.plot(x,'r--')       #빨간색 이음선\r\n",
        "plt.plot(f1, 'g.')      #초록색 점\r\n",
        "plt.plot(f2, 'bv')      #파란색 역삼각형\r\n",
        "plt.plot(f3, 'ks')      #검은색 사각형\r\n",
        "plt.show()"
      ],
      "execution_count": null,
      "outputs": [
        {
          "output_type": "display_data",
          "data": {
            "image/png": "[encoded data removed]",
            "text/plain": [
              "<Figure size 432x288 with 1 Axes>"
            ]
          },
          "metadata": {
            "tags": [],
            "needs_background": "light"
          }
        }
      ]
    },
    {
      "cell_type": "markdown",
      "metadata": {
        "id": "ObBeUpy47tqA"
      },
      "source": [
        "### 3.2.4 subplot\r\n",
        "바로 위에 그래프는 여러 배열 값을 하나의 다이어그램에 겹쳐서 그래프를 그렸다. 각각의 그래프를 분리해서 따로 그려야 할 때는 plt.subplot을 사용한다. 이 함수는 3개의 인자를 이용해서 몇 행 몇 열로 분할된 그래프에 몇 번째 그래프를 그릴지는 먼저 지정한 후에 plt.plot() 함수를 호출하면 그 자리에 그래프를 그리게 된다."
      ]
    },
    {
      "cell_type": "code",
      "metadata": {
        "colab": {
          "base_uri": "https://localhost:8080/",
          "height": 265
        },
        "id": "hGlV1Wsw7qyb",
        "outputId": "a5b75249-24d2-4918-c7ad-0889ee3e37b6"
      },
      "source": [
        "import numpy as np\r\n",
        "import matplotlib.pyplot as plt\r\n",
        "\r\n",
        "x = np.arange(10) \r\n",
        "plt.subplot(2,2,1)      #2행 2열 중에 첫 번째\r\n",
        "plt.plot(x,x**2)\r\n",
        "\r\n",
        "plt.subplot(2,2,2)      #2행 2열 중에 두 번째\r\n",
        "plt.plot(x, x*5)\r\n",
        "\r\n",
        "plt.subplot(2,2,3)      #2행 2열 중에 세 번째\r\n",
        "plt.plot(x, np.sin(x))\r\n",
        "\r\n",
        "plt.subplot(224)        #2행 2열 중에 네 번째\r\n",
        "plt.plot(x, np.cos(x))\r\n",
        "\r\n",
        "plt.show()"
      ],
      "execution_count": null,
      "outputs": [
        {
          "output_type": "display_data",
          "data": {
            "image/png": "[encoded data removed]",
            "text/plain": [
              "<Figure size 432x288 with 4 Axes>"
            ]
          },
          "metadata": {
            "tags": [],
            "needs_background": "light"
          }
        }
      ]
    },
    {
      "cell_type": "markdown",
      "metadata": {
        "id": "bDtaZ7Vi8xMU"
      },
      "source": [
        "subplot(2,2,1)처럼 3개의 인자를 전달하는 것과 subplot(221)처럼 세 자리 숫자 한개를 전달하는 것은 똑같이 작동한다."
      ]
    },
    {
      "cell_type": "markdown",
      "metadata": {
        "id": "8QX8bje-8-cT"
      },
      "source": [
        "### 3.2.5 이미지 표시\r\n",
        "plt.plot() 대신에 plt.imshow() 함수를 호출하면 OpenCV로 읽어들인 이미지를 그래프 영역에 출력할 수 있다. "
      ]
    },
    {
      "cell_type": "code",
      "metadata": {
        "colab": {
          "base_uri": "https://localhost:8080/",
          "height": 269
        },
        "id": "JDLt0oAS8tKC",
        "outputId": "f4f0f91a-28bb-4248-d2a9-da90df47bdc0"
      },
      "source": [
        "import cv2\r\n",
        "import matplotlib.pyplot as plt\r\n",
        "\r\n",
        "img = cv2.imread('/content/drive/MyDrive/파이썬을 이용한 open CV/Data_Folder/Save_picture.jpg')\r\n",
        "\r\n",
        "plt.imshow(img)     #이미지 표시\r\n",
        "plt.show()"
      ],
      "execution_count": null,
      "outputs": [
        {
          "output_type": "display_data",
          "data": {
            "image/png": "[encoded data removed]",
            "text/plain": [
              "<Figure size 432x288 with 1 Axes>"
            ]
          },
          "metadata": {
            "tags": [],
            "needs_background": "light"
          }
        }
      ]
    },
    {
      "cell_type": "markdown",
      "metadata": {
        "id": "MfbV1hd1-XEr"
      },
      "source": [
        "앞 예제의 실행 결과의 색상이 이상하다. 이유는 plt.imshow() 함수는 컬러 이미지를 R,G,B 순서로 해석하지만 OpenCV 이미지는 B,G,R 순으로 만들어져서 색상 위치가 반대로 변한다. 그래서 OpenCV로 읽은 이미지를 R, G, B 순으로 바꾸어서 전달해야 한다."
      ]
    },
    {
      "cell_type": "code",
      "metadata": {
        "colab": {
          "base_uri": "https://localhost:8080/",
          "height": 252
        },
        "id": "didZ8DCJ-P8S",
        "outputId": "7d624762-42ab-4b42-8662-6980fc4bd3fc"
      },
      "source": [
        "import cv2\r\n",
        "import matplotlib.pyplot as plt\r\n",
        "\r\n",
        "img = cv2.imread('/content/drive/MyDrive/파이썬을 이용한 open CV/Data_Folder/Save_picture.jpg')\r\n",
        "\r\n",
        "plt.imshow(img[:,:,::-1])     #이미지 컬러 채널 변경해서 표시\r\n",
        "plt.xticks([])                #x좌표 눈금 제거\r\n",
        "plt.yticks([])                #y좌표 눈금 제거\r\n",
        "plt.show()"
      ],
      "execution_count": null,
      "outputs": [
        {
          "output_type": "display_data",
          "data": {
            "image/png": "[encoded data removed]",
            "text/plain": [
              "<Figure size 432x288 with 1 Axes>"
            ]
          },
          "metadata": {
            "tags": []
          }
        }
      ]
    },
    {
      "cell_type": "markdown",
      "metadata": {
        "id": "lfrRGazo_A75"
      },
      "source": [
        "plt.imshow(img[:,:,::-1])는 컬러 채널의 순서를 바꾸는 것인데, 이 코드의 의미는 다음과 같다. 3차원 배열의 모든 내용을 선택하는 것은 img[:,:,:]이다. 이때 마지막 축의 길이가 3이므로 다시 img[:,:,::]으로 바꾸어 쓴다. 이때 마지막 축의 요소의 순서를 거꾸로 뒤집기 위해 img[:,:,::-1]로 쓴다. 쉬운 예로 다음을 볼 수 있다.  \r\n",
        "img[:,:,(2,1,0)]  => img[:,:,(0,1,2)]\r\n",
        "또는  \r\n",
        "img[:,:,2], img[:,:,1], img[:,:,0] => img [:,:,0], img[:,:,1], img[:,:,2]    \r\n",
        "  \r\n",
        "앞서 설명한 대로 프로그램의 결과로 이미지를 여러 개 출력해야 하는 경우, OpenCV의 cv2.imshow() 함수는 여러 번 호출하면 매번 새로운 창이 열리기 때문에 귀찮다. plt.imshow() 함수는 plt.subplot 함수와 함께 사용하면 하나의 창에 여러개의 이미지를 동시에 출력할 수 있으니 이런 경우 좋은 대안이 될 수 있다.\r\n"
      ]
    },
    {
      "cell_type": "code",
      "metadata": {
        "id": "X39gex5N-_uJ",
        "colab": {
          "base_uri": "https://localhost:8080/",
          "height": 133
        },
        "outputId": "6cd231e4-7cf5-4d96-d49a-0293613602f6"
      },
      "source": [
        "import matplotlib.pyplot as plt\r\n",
        "import numpy as np\r\n",
        "import cv2\r\n",
        "\r\n",
        "img1 = cv2.imread('/content/drive/MyDrive/파이썬을 이용한 open CV/Data_Folder/Save_picture.jpg')\r\n",
        "img2 = cv2.imread('/content/drive/MyDrive/파이썬을 이용한 open CV/Data_Folder/blank_500.jpg')\r\n",
        "img3 = cv2.imread('/content/drive/MyDrive/파이썬을 이용한 open CV/Data_Folder/강아지 캡처.PNG')\r\n",
        "\r\n",
        "plt.subplot(1,3,1)          #1행 3열 중에 첫 번째\r\n",
        "plt.imshow(img1[:,:,(2,1,0)])\r\n",
        "plt.xticks([]); plt.yticks([])\r\n",
        "\r\n",
        "plt.subplot(1,3,2)          #1행 3열 중에 두 번째\r\n",
        "plt.imshow(img2[:,:,::-1])\r\n",
        "plt.xticks([]); plt.yticks([])\r\n",
        "\r\n",
        "plt.subplot(1,3,3)          #1행 3열 중에 세 번째\r\n",
        "plt.imshow(img3[:,:,::-1])\r\n",
        "plt.xticks([]); plt.yticks([])\r\n",
        "\r\n",
        "plt.show()"
      ],
      "execution_count": null,
      "outputs": [
        {
          "output_type": "display_data",
          "data": {
            "image/png": "[encoded data removed]",
            "text/plain": [
              "<Figure size 432x288 with 3 Axes>"
            ]
          },
          "metadata": {
            "tags": []
          }
        }
      ]
    },
    {
      "cell_type": "code",
      "metadata": {
        "id": "Ohf60jmtQNBl"
      },
      "source": [
        ""
      ],
      "execution_count": null,
      "outputs": []
    }
  ]
}