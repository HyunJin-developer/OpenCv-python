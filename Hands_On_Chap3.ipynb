{
  "nbformat": 4,
  "nbformat_minor": 0,
  "metadata": {
    "colab": {
      "name": "Hands-On Chap3",
      "provenance": [],
      "collapsed_sections": [
        "ey09tAmkMbeA"
      ],
      "authorship_tag": "ABX9TyPXrcAduh/4F41zhS56/bGX",
      "include_colab_link": true
    },
    "kernelspec": {
      "name": "python3",
      "display_name": "Python 3"
    },
    "accelerator": "GPU"
  },
  "cells": [
    {
      "cell_type": "markdown",
      "metadata": {
        "id": "view-in-github",
        "colab_type": "text"
      },
      "source": [
        "<a href=\"https://colab.research.google.com/github/HyunJin-developer/OpenCv-python/blob/Hands-on/Hands_On_Chap3.ipynb\" target=\"_parent\"><img src=\"https://colab.research.google.com/assets/colab-badge.svg\" alt=\"Open In Colab\"/></a>"
      ]
    },
    {
      "cell_type": "markdown",
      "metadata": {
        "id": "pi4jTUJ0MVPS"
      },
      "source": [
        "# Chap 3, Classification, Hands on Machine Learning  \r\n",
        "\r\n"
      ]
    },
    {
      "cell_type": "markdown",
      "metadata": {
        "id": "ey09tAmkMbeA"
      },
      "source": [
        "## 3.1 MNIST\r\n",
        " 이 장에서는 고등학생과 미국 인구조사국 직원들이 손으로 쓴 7만 개의 작은 숫자 이미지를 모은 MNIST 데이터셋을 사용했다. "
      ]
    },
    {
      "cell_type": "code",
      "metadata": {
        "id": "80Iss_s1eMTY",
        "colab": {
          "base_uri": "https://localhost:8080/"
        },
        "outputId": "0e989186-9470-4e95-9c14-8d7b0eec6b97"
      },
      "source": [
        "from sklearn.datasets import fetch_openml\r\n",
        "mnist = fetch_openml('mnist_784', version=1)\r\n",
        "mnist.keys()"
      ],
      "execution_count": null,
      "outputs": [
        {
          "output_type": "execute_result",
          "data": {
            "text/plain": [
              "dict_keys(['data', 'target', 'frame', 'feature_names', 'target_names', 'DESCR', 'details', 'categories', 'url'])"
            ]
          },
          "metadata": {
            "tags": []
          },
          "execution_count": 4
        }
      ]
    },
    {
      "cell_type": "markdown",
      "metadata": {
        "id": "TW7QEfIYCn1C"
      },
      "source": [
        "이와 같이 사이킷런에서 읽어 들인 데이터셋들은 일반적으로 비슷한 딕셔너리 구조를 가지고 있다.  \r\n",
        "\r\n",
        "- 데이터셋을 설명하는 DESCR 키\r\n",
        "- 샘플이 하나의 행 특성이 하나의 열로 구성된 배열을 가진 data 키\r\n",
        "- 레이블 배열을 담은 target 키\r\n",
        "  \r\n",
        "다음으로 위 배열들을 살펴본다."
      ]
    },
    {
      "cell_type": "code",
      "metadata": {
        "id": "tTDc-LQzCNRt",
        "colab": {
          "base_uri": "https://localhost:8080/"
        },
        "outputId": "c59156ba-c626-478f-b10e-9e42ee754a9c"
      },
      "source": [
        "X, y = mnist['data'], mnist['target']   # data : 이미지, target : 레이블\r\n",
        "print(X.shape, y.shape)"
      ],
      "execution_count": null,
      "outputs": [
        {
          "output_type": "stream",
          "text": [
            "(70000, 784) (70000,)\n"
          ],
          "name": "stdout"
        }
      ]
    },
    {
      "cell_type": "markdown",
      "metadata": {
        "id": "esHbFSKozl1L"
      },
      "source": [
        "데이터로는 이미지 파일을 사용한다. 따라서 7만개의 데이터와 784개의 특성이 있는데,이미지가 28 x 28 픽셀이기 때문에 784개의 특성이 있다. "
      ]
    },
    {
      "cell_type": "code",
      "metadata": {
        "id": "OHwexVs80Vpa",
        "colab": {
          "base_uri": "https://localhost:8080/"
        },
        "outputId": "c0fd903b-f1ce-4c80-923f-978a49270cb0"
      },
      "source": [
        "import matplotlib as mpl\r\n",
        "import matplotlib.pyplot as plt\r\n",
        "\r\n",
        "some_digit = X[0]\r\n",
        "some_digit_image = some_digit.reshape(28, 28)\r\n",
        "\r\n",
        "plt.imshow(some_digit_image, cmap=\"binary\")         # cmap(clror map)\r\n",
        "plt.axis(\"off\")\r\n",
        "plt.show()"
      ],
      "execution_count": null,
      "outputs": [
        {
          "output_type": "display_data",
          "data": {
            "image/png": "[encoded data removed]",
            "text/plain": [
              "<Figure size 432x288 with 1 Axes>"
            ]
          },
          "metadata": {
            "tags": [],
            "needs_background": "light"
          }
        }
      ]
    },
    {
      "cell_type": "markdown",
      "metadata": {
        "id": "KnKH-2jl2YP4"
      },
      "source": [
        "샘플의 특성 벡터를 추출해서 28 x 28 배열로 크기를 바꾸고 imshow() 함수를 사용해 그리면 된다. 위 코드의 결과는 숫자 5로 보이는데 실제 레이블을 확인해본다."
      ]
    },
    {
      "cell_type": "code",
      "metadata": {
        "id": "GK8FOB_VdnR0",
        "colab": {
          "base_uri": "https://localhost:8080/"
        },
        "outputId": "cd4a8d4a-03d8-4baa-b900-77a62b77fd23"
      },
      "source": [
        "y[0]"
      ],
      "execution_count": null,
      "outputs": [
        {
          "output_type": "execute_result",
          "data": {
            "application/vnd.google.colaboratory.intrinsic+json": {
              "type": "string"
            },
            "text/plain": [
              "'5'"
            ]
          },
          "metadata": {
            "tags": []
          },
          "execution_count": 7
        }
      ]
    },
    {
      "cell_type": "markdown",
      "metadata": {
        "id": "1tT0alQBFLPg"
      },
      "source": [
        "데이터를 자세히 조사하기 전에 항상 테스트 세트를 만들고 따로 떼어 놓아야 한다. MNIST 데이터셋은 이미 훈련 세트(6만 개)와 테스트 세트(1만 개)로 나누어놨다."
      ]
    },
    {
      "cell_type": "code",
      "metadata": {
        "id": "84XCI2Nf24bf"
      },
      "source": [
        "import numpy as np                        # 뒤에서 오류를 해결하기 위해 작성\r\n",
        "X_train, X_test, y_train, y_test = X[:60000], X[60000:], y[:60000], y[60000:]\r\n",
        "y_train = y_train.astype(np.int8)       # 뒤에서 오류를 해결하기 위해 작성 y_train의 타입 변경"
      ],
      "execution_count": null,
      "outputs": []
    },
    {
      "cell_type": "markdown",
      "metadata": {
        "id": "5StoXX-hGJd1"
      },
      "source": [
        "어떤 학습 알고리즘은 훈련 샘플의 순서에 민감해서 비슷한 샘플이 연이어 나타나면 성능이 나빠진다. 데이터셋을 섞으면 이런 문제를 방지할 수 있다."
      ]
    },
    {
      "cell_type": "markdown",
      "metadata": {
        "id": "HzWgm38aGgNw"
      },
      "source": [
        "## 3.2 이진 분류기 훈련\r\n",
        "이진 분류기(binary classifier)란, 하나의 레이블만 식별하는 분류 작업이다. 그 예로 '5-감지기'라는 분류기로 숫자 5만 식별해본다."
      ]
    },
    {
      "cell_type": "code",
      "metadata": {
        "id": "CjnVFbwhHOBn"
      },
      "source": [
        "y_train_5 = (y_train == 5)        # 5는 True, 나머지 숫자는 모두 False\r\n",
        "y_test_5 = (y_test == 5)"
      ],
      "execution_count": null,
      "outputs": []
    },
    {
      "cell_type": "markdown",
      "metadata": {
        "id": "aqQTTeNsHbw3"
      },
      "source": [
        "다음과 같이 타깃 벡터를 만들어 봤다면, 이제 분류 모델을 하나 선택해서 훈련해본다. 사이킷런의 SGDClassifier 클래스를 사용해서 확률적 경사 하강법(Stochastic Gradient Descent) 분류기를 먼저 사용해 본다.  \r\n",
        "**SGD(Stochastic Gradient Descent)**\r\n",
        "- 한 번에 하나씩 훈련 샘플을 독립적으로 처리(온라인 학습에 알맞음)\r\n",
        "- 큰 데이터셋을 효율적으로 처리"
      ]
    },
    {
      "cell_type": "code",
      "metadata": {
        "id": "KIZHw2heJAuz",
        "colab": {
          "base_uri": "https://localhost:8080/"
        },
        "outputId": "9451c6bc-9dd0-48f0-a1bf-c3a580cc7796"
      },
      "source": [
        "from sklearn.linear_model import SGDClassifier\r\n",
        "\r\n",
        "sgd_clf = SGDClassifier(random_state=42)        # random_state : 결과를 재현시키도록 초기값을 할당.(아무값이나 상관없음)\r\n",
        "sgd_clf.fit(X_train, y_train_5)\r\n",
        "sgd_clf.predict([some_digit])       # some_digit : X[0]"
      ],
      "execution_count": null,
      "outputs": [
        {
          "output_type": "execute_result",
          "data": {
            "text/plain": [
              "array([ True])"
            ]
          },
          "metadata": {
            "tags": []
          },
          "execution_count": 10
        }
      ]
    },
    {
      "cell_type": "markdown",
      "metadata": {
        "id": "3HJtg3KPQAYO"
      },
      "source": [
        "SGD 분류기를 사용하여 다음과 같이 some_digit이 5가 맞는지 아닌지 확인해보았다. 다음과 같은 작업을 진행할 때 아래의 오류가 발생했었는데,  \r\n",
        "**ValueError: The number of classes has to be greater than one; got 1 class**  \r\n",
        "\r\n",
        "인터넷에 검색해 본 결과, np.astype을 해주어서 int8로 타입 변경을 해주면 해결 된다고 했다. 기존의 target 레이블은 스트링 '5' 라서 이런 문제가 발생한 듯 싶다."
      ]
    },
    {
      "cell_type": "markdown",
      "metadata": {
        "id": "-oWZcC2PSYtg"
      },
      "source": [
        "## 3.3 성능 측정\r\n"
      ]
    },
    {
      "cell_type": "markdown",
      "metadata": {
        "id": "YWNGga3ESnJg"
      },
      "source": [
        "### 3.3.1 교차 검증을 사용한 정확도 측정\r\n",
        "2장에서 처럼 교차 검증은 모델을 평가하는 좋은 방법이다."
      ]
    },
    {
      "cell_type": "code",
      "metadata": {
        "id": "pJukyhByK1X3",
        "colab": {
          "base_uri": "https://localhost:8080/"
        },
        "outputId": "ab78c2d6-6349-4e8c-de29-e2319ba54b0c"
      },
      "source": [
        "from sklearn.model_selection import StratifiedKFold\r\n",
        "from sklearn.base import clone\r\n",
        "\r\n",
        "skfolds = StratifiedKFold(n_splits=3, random_state=42, shuffle=True)      # n_splits=3 : 폴드를 3개로 분할, shuffle=True : 무작위로 섞음.\r\n",
        "\r\n",
        "## 매 반복에서 분류기 객체를 복제하여 훈련 폴드로 훈련시키고, 테스트 폴드로 예측을 만듦.\r\n",
        "## 전에 훈련데이터를 6만으로 잡았으므로, train 4만 test 2만으로 잡고 교차 검증 실행.\r\n",
        "for train_index, test_index in skfolds.split(X_train, y_train_5):         # 3 개의 K폴드 이므로, 3쌍의 X_train, y_train_5를 반환\r\n",
        "  clone_clf = clone(sgd_clf)              # 반복문마다 sgd 분류기 모델 복사\r\n",
        "  X_train_folds = X_train[train_index]    # X_train 데이터 인덱싱\r\n",
        "  y_train_folds = y_train_5[train_index]\r\n",
        "  X_test_fold = X_train[test_index]\r\n",
        "  y_test_fold = y_train_5[test_index]\r\n",
        "\r\n",
        "  clone_clf.fit(X_train_folds, y_train_folds)   # 모델 학습\r\n",
        "  y_pred = clone_clf.predict(X_test_fold)       # 테스트 데이터(예측)\r\n",
        "  n_correct = sum(y_pred == y_test_fold)        # 예측이 타깃과 맞은 경우\r\n",
        "  print(n_correct / len(y_pred))                "
      ],
      "execution_count": null,
      "outputs": [
        {
          "output_type": "stream",
          "text": [
            "0.9669\n",
            "0.91625\n",
            "0.96785\n"
          ],
          "name": "stdout"
        }
      ]
    },
    {
      "cell_type": "code",
      "metadata": {
        "id": "Eok8idN2kjyO",
        "colab": {
          "base_uri": "https://localhost:8080/"
        },
        "outputId": "673d21f2-f927-4eeb-8913-56d946a45a75"
      },
      "source": [
        "# cross_val_score 사용\r\n",
        "from sklearn.model_selection import cross_val_score\r\n",
        "cross_val_score(sgd_clf, X_train, y_train_5, cv=3, scoring=\"accuracy\")      #(모델명, 훈련 데이터, 타깃, cv)  "
      ],
      "execution_count": null,
      "outputs": [
        {
          "output_type": "execute_result",
          "data": {
            "text/plain": [
              "array([0.95035, 0.96035, 0.9604 ])"
            ]
          },
          "metadata": {
            "tags": []
          },
          "execution_count": 12
        }
      ]
    },
    {
      "cell_type": "code",
      "metadata": {
        "id": "AuIQplmJvTdi",
        "colab": {
          "base_uri": "https://localhost:8080/"
        },
        "outputId": "99c2c9b4-0f64-4456-d616-5e4154cefd8f"
      },
      "source": [
        "# 5-None 클래스로 분류하는 더미 분류기(Dummy classifier : 모든 이미지를 5가 아니라고 함.)\r\n",
        "\r\n",
        "from sklearn.base import BaseEstimator\r\n",
        "\r\n",
        "class Never5Classifier(BaseEstimator):\r\n",
        "  def fit(self, X, y=None):\r\n",
        "    return self\r\n",
        "  def predict(self, X):\r\n",
        "    return np.zeros((len(X), 1), dtype=bool)        # dtype=bool : 5가 아니면 True 맞으면 False를 반환 \r\n",
        "\r\n",
        "never_5_clf = Never5Classifier()\r\n",
        "cross_val_score(never_5_clf, X_train, y_train_5, cv=3, scoring=\"accuracy\")"
      ],
      "execution_count": null,
      "outputs": [
        {
          "output_type": "execute_result",
          "data": {
            "text/plain": [
              "array([0.91125, 0.90855, 0.90915])"
            ]
          },
          "metadata": {
            "tags": []
          },
          "execution_count": 13
        }
      ]
    },
    {
      "cell_type": "markdown",
      "metadata": {
        "id": "s6oEv2_l4NPr"
      },
      "source": [
        "이미지의 10% 정도만 숫자 5이기 때문에 무조건 5가 아닌 것으로 예측해도 정확도는 90% 이상이다.   \r\n",
        "**이 예제는 정확도를 분류기의 성능 측정 지표로 선호하지 않는 이유를 보여준다. 특히 불균형한 데이터셋을 다룰 때 더욱 그렇다.**\r\n"
      ]
    },
    {
      "cell_type": "markdown",
      "metadata": {
        "id": "jmXl0T8B4rba"
      },
      "source": [
        "### 3.3.2 오차행렬(Confusion Matrix)\r\n",
        "앞 선 장에서 확인했듯이, 분류기의 성능 측정 지표로 정확도를 선호하지 않는다. 분류기의 성능을 평가하는 더 좋은 방법은 오차 행렬을 조사하는 것이다. 기본적인 아이디어는 클래스 A의 샘플을 클래스 B로 분류되는 횟수를 세는 것이다.  \r\n",
        "오차 행렬을 만들려면 실제 타깃과 비교할 수 있도록 먼저 예측값을 만들어야 한다.cross_val_predict() 함수를 사용해서 만들어 보자."
      ]
    },
    {
      "cell_type": "code",
      "metadata": {
        "id": "5UjcuBGQ021p"
      },
      "source": [
        "from sklearn.model_selection import cross_val_predict\r\n",
        "\r\n",
        "y_train_pred = cross_val_predict(sgd_clf, X_train, y_train_5, cv=3)         # k-겹 교차 검증을 수행하지만, 평가 점수를 반환하지 않고, 각 테스트 폴드에서 얻은 예측을 반환."
      ],
      "execution_count": null,
      "outputs": []
    },
    {
      "cell_type": "markdown",
      "metadata": {
        "id": "PItPCac4Fisr"
      },
      "source": [
        "이제 타깃 클래스와 예측 클래스를 넣고 호출하면 된다."
      ]
    },
    {
      "cell_type": "code",
      "metadata": {
        "id": "bGZvL7odFozA",
        "colab": {
          "base_uri": "https://localhost:8080/"
        },
        "outputId": "18fb42a6-6e1a-4e32-fd3d-21a3ba9a3c7d"
      },
      "source": [
        "from sklearn.metrics import confusion_matrix\r\n",
        "\r\n",
        "confusion_matrix(y_train_5, y_train_pred)"
      ],
      "execution_count": null,
      "outputs": [
        {
          "output_type": "execute_result",
          "data": {
            "text/plain": [
              "array([[53892,   687],\n",
              "       [ 1891,  3530]])"
            ]
          },
          "metadata": {
            "tags": []
          },
          "execution_count": 15
        }
      ]
    },
    {
      "cell_type": "markdown",
      "metadata": {
        "id": "A0zc_vHtHDag"
      },
      "source": [
        "오차 행렬의 행은 실제클래스를 나타내고, 열은 예측한 클래스를 나타낸다. 첫 번째 행은 Negative class로, '5가 아님'을 53057개로 분류(True Negative)했고, 나머지 1522는 '5'라고 잘못 분류(False positive)했다. 두 번째 행은 Positive class로, 1325개를 '5가 아님'으로 잘못 분류(False negative)했고, 4096개를 정확히 '5'라고 분류(True positive)했다.   \r\n",
        "\r\n",
        "오차 행렬 자체로도 많은 정보를 주지만, 더 요약된 지표가 필요할 때가 있다. 살펴볼만한 것이 양성 예측의 정확도이다. 이를 정밀도(precision)라고 한다.  \r\n",
        "$정밀도 = \\frac{TP}{TP+FP}$  \r\n",
        "정밀도는 재현율(recall)이라는 또 다른 지표와 같이 사용하는 것이 일반적이다. 재현율은 분류기가 정확하게 감지한 양성 샘플의 비율로 민감도(Sensitive) 또는 True Positive Rate(TPR)이라고도 한다.\r\n",
        "$재현율 = \\frac{TP}{TP+FN}$\r\n"
      ]
    },
    {
      "cell_type": "markdown",
      "metadata": {
        "id": "eTxYkE90J43f"
      },
      "source": [
        "### 3.3.3 정밀도와 재현율\r\n",
        "앞 서 본 정밀도와 재현율을 포함하여 분류기의 지표를 계산하는 함수는 사이킷런에서 제공한다."
      ]
    },
    {
      "cell_type": "code",
      "metadata": {
        "id": "G2UJNvcUGzhB",
        "colab": {
          "base_uri": "https://localhost:8080/"
        },
        "outputId": "556b1aee-eec3-474c-eede-27ceac1a237f"
      },
      "source": [
        "from sklearn.metrics import precision_score, recall_score\r\n",
        "print(precision_score(y_train_5, y_train_pred))                  # == 3530 / (3530+697)\r\n",
        "print(recall_score(y_train_5, y_train_pred))                     # == 3530 / (3530+1891)"
      ],
      "execution_count": null,
      "outputs": [
        {
          "output_type": "stream",
          "text": [
            "0.8370879772350012\n",
            "0.6511713705958311\n"
          ],
          "name": "stdout"
        }
      ]
    },
    {
      "cell_type": "markdown",
      "metadata": {
        "id": "mgjNg294NOYy"
      },
      "source": [
        "정밀도와 재현율을 F1 score 라는 하나의 숫자로 만들면 특히 두 분류기를 비교할 때 편리하다. F1 score는 정밀도와 재현율의 조화 평균(harmonic mean)이다.  \r\n",
        "$F1 = \\frac{2}{\\frac{1}{정밀도}+\\frac{1}{재현율}} = 2\\times\\frac{정밀도\\times재현율}{정밀도+재현율} = \\frac{TP}{TP+\\frac{FN+FP}{2}}$  \r\n",
        "\r\n"
      ]
    },
    {
      "cell_type": "code",
      "metadata": {
        "id": "s8j0Ap2CKn8w",
        "colab": {
          "base_uri": "https://localhost:8080/"
        },
        "outputId": "f4629c4a-7529-4919-fcb7-0783f656336e"
      },
      "source": [
        "from sklearn.metrics import f1_score\r\n",
        "f1_score(y_train_5, y_train_pred)"
      ],
      "execution_count": null,
      "outputs": [
        {
          "output_type": "execute_result",
          "data": {
            "text/plain": [
              "0.7325171197343846"
            ]
          },
          "metadata": {
            "tags": []
          },
          "execution_count": 17
        }
      ]
    },
    {
      "cell_type": "markdown",
      "metadata": {
        "id": "Y39FjyXfO0Ut"
      },
      "source": [
        "정밀도와 재현율이 비슷한 분류기에서는 F1 score가 높다. 하지만 이게 항상 바람직한 것은 아니다. 상황에 따라 정밀도가 중요할 수도 있고, 재현율이 중요할 수도 있다. 불행히도 이 둘을 모두 얻을 수는 없다. 정밀도를 올리면 재현율이 줄고, 그 반대도 마찬가지다. 이를 **정밀도/재현율 트레이드오프**라고 한다. "
      ]
    },
    {
      "cell_type": "markdown",
      "metadata": {
        "id": "F4xoma6HPeTa"
      },
      "source": [
        "### 3.3.4 정밀도/재현율 트레이드오프\r\n",
        "SGDClassifier가 분류를 어떻게 결정하는지 살펴보면서 트레이드 오프를 이해해본다. SGD는 결정함수(Decision function)을 사용하여 각 샘플의 점수를 계산한다. \r\n",
        "\r\n"
      ]
    },
    {
      "cell_type": "markdown",
      "metadata": {
        "id": "O3Mg0o9ebDt8"
      },
      "source": [
        "![image.png](data:image/png;base64,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)"
      ]
    },
    {
      "cell_type": "markdown",
      "metadata": {
        "id": "dlddmAINbM7i"
      },
      "source": [
        "[그림 3-3]을 보면 이미지는 분류기가 만든 점수 순으로 나열되어 있다. 위를 보면 알 수 있듯이, 임계값을 오른 쪽으로 두면 둘 수록 정밀도는 올라가지만, 재현율은 떨어진다. 반대로 왼 쪽으로 둘 수록 정밀도는 내려가지만, 재현율은 올라간다.  \r\n",
        "\r\n",
        "사이킷런에서 임계값을 직접 지정할 수는 없지만 예측에 사용한 점수는 확인할 수 있다. 분류기의 predict() 메서드 대신 decision_function() 메서드를 호출하면 된다. "
      ]
    },
    {
      "cell_type": "code",
      "metadata": {
        "id": "B_QjmVFQOcaT",
        "colab": {
          "base_uri": "https://localhost:8080/"
        },
        "outputId": "dfe84a41-afdd-4d20-ba51-8773917a0288"
      },
      "source": [
        "y_score = sgd_clf.decision_function([some_digit])       #'5' 호출\r\n",
        "print(y_score)                                          #some_digit의 점수\r\n",
        "threshold = 0                                           #임계값\r\n",
        "y_some_digit_pred = (y_score > threshold)\r\n",
        "print(y_some_digit_pred)"
      ],
      "execution_count": null,
      "outputs": [
        {
          "output_type": "stream",
          "text": [
            "[2164.22030239]\n",
            "[ True]\n"
          ],
          "name": "stdout"
        }
      ]
    },
    {
      "cell_type": "code",
      "metadata": {
        "id": "lGlXUEIBcI0A",
        "colab": {
          "base_uri": "https://localhost:8080/"
        },
        "outputId": "778ec086-8367-42a7-a1d5-4e02360f39f4"
      },
      "source": [
        "threshold = 8000\r\n",
        "y_some_digit_pred = (y_score > threshold)\r\n",
        "print(y_some_digit_pred)"
      ],
      "execution_count": null,
      "outputs": [
        {
          "output_type": "stream",
          "text": [
            "[False]\n"
          ],
          "name": "stdout"
        }
      ]
    },
    {
      "cell_type": "markdown",
      "metadata": {
        "id": "Y4UGyfjOdqpj"
      },
      "source": [
        "적절한 임곗값을 정하려면 먼저 cross_val_predict()함수를 사용해 훈련 세트에 있는 모든 샘플의 점수를 구해야 한다. "
      ]
    },
    {
      "cell_type": "code",
      "metadata": {
        "id": "lMSYUqjid5J4"
      },
      "source": [
        "y_scores = cross_val_predict(sgd_clf, X_train, y_train_5, cv=3, method=\"decision_function\")      # method를 decision_function으로 "
      ],
      "execution_count": null,
      "outputs": []
    },
    {
      "cell_type": "code",
      "metadata": {
        "id": "eG9ebQQsdcv6"
      },
      "source": [
        "from sklearn.metrics import precision_recall_curve\r\n",
        "import matplotlib.pyplot as plt\r\n",
        "\r\n",
        "precisions, recalls, thresholds = precision_recall_curve(y_train_5, y_scores)         # precision_recall_curve로 모든 임곗값에 대해 정밀도와 재현율을 계산할 수 있음."
      ],
      "execution_count": null,
      "outputs": []
    },
    {
      "cell_type": "code",
      "metadata": {
        "id": "LjsqcyiReiSM",
        "colab": {
          "base_uri": "https://localhost:8080/",
          "height": 265
        },
        "outputId": "9b9f1bdb-02dc-497c-b339-6badd6f49203"
      },
      "source": [
        "def plot_precision_recall_vs_threshold(precisions, recalls, threshold):\r\n",
        "  plt.plot(thresholds, precisions[:-1], \"b--\", label=\"정밀도\")\r\n",
        "  plt.plot(thresholds, recalls[:-1], \"g-\", label=\"재현율\")\r\n",
        "  # 임계값 표시, 범례, 그리드, 축 이름\r\n",
        "\r\n",
        "plot_precision_recall_vs_threshold(precisions, recalls, thresholds)\r\n",
        "plt.show()"
      ],
      "execution_count": null,
      "outputs": [
        {
          "output_type": "display_data",
          "data": {
            "image/png": "[encoded data removed]",
            "text/plain": [
              "<Figure size 432x288 with 1 Axes>"
            ]
          },
          "metadata": {
            "tags": [],
            "needs_background": "light"
          }
        }
      ]
    },
    {
      "cell_type": "markdown",
      "metadata": {
        "id": "7XAzJu_hjbcl"
      },
      "source": [
        "좋은 정밀도/재현율 트레이드오프를 선택하는 방법은 재현율에 대한 정밀도 곡선을 그리는 것이다. 위 결과와 같이 재현율 80% 근처에서 정밀도가 급격하게 줄어드는 것을 확인할 수 있다. 이 하강 직전을 트레이드오프로 선택하는 것이 좋다.  \r\n",
        "정밀도 90%를 달성하는 것을 목표로 하고, 최소 정밀도가 90%가 되는 가장 낮은 임계값을 찾을 수 있다. "
      ]
    },
    {
      "cell_type": "code",
      "metadata": {
        "id": "VHKRGxcOgDK5"
      },
      "source": [
        "threshold_90_precision = thresholds[np.argmax(precisions >= 0.90)]    #np.argmax()는 최댓값의 첫 번째 인덱스를 반환한다. "
      ],
      "execution_count": null,
      "outputs": []
    },
    {
      "cell_type": "markdown",
      "metadata": {
        "id": "efzS4FF4knx8"
      },
      "source": [
        "이제 precision_score 메서드와 recall_score 메서드를 이용해서 확인해 본다."
      ]
    },
    {
      "cell_type": "code",
      "metadata": {
        "id": "0cRARrrZktaF",
        "colab": {
          "base_uri": "https://localhost:8080/"
        },
        "outputId": "7d141491-7ca3-418a-f091-4658d56d27ef"
      },
      "source": [
        "y_train_pred_90 = (y_scores >= threshold_90_precision)          #y_score가 정밀도 90% 이상인 값\r\n",
        "\r\n",
        "print(precision_score(y_train_5, y_train_pred_90))\r\n",
        "print(recall_score(y_train_5, y_train_pred_90))"
      ],
      "execution_count": null,
      "outputs": [
        {
          "output_type": "stream",
          "text": [
            "0.9000345901072293\n",
            "0.4799852425751706\n"
          ],
          "name": "stdout"
        }
      ]
    },
    {
      "cell_type": "markdown",
      "metadata": {
        "id": "lELc77Dxlv2C"
      },
      "source": [
        "### 3.3.5 ROC 곡선\r\n",
        "ROC 곡선은 Receiver Operating Characteristic Curve로 한글로는 수신기 조작 특성이라고 불린다. ROC 곡선은 거짓 양성 비율(False Positive Rate, FPR)에 대한 진짜 양성 비율(True Positive Rate, TPR)의 곡선이다. 말 그대로 거짓 양성 비율은 잘못 분류된 음성 샘플의 비율이고, 이는 1에서 음성으로 정확하게 분류한 음성 샘플의 비율인 진짜 음성 비율(True Negative Rate, TNR)을 뺀 값이다.  \r\n",
        "- TNR을 특이도(specificity)라고도 함\r\n",
        "- ROC 곡선은 민감도(재현율)에 대한 1-특이도 그래프임"
      ]
    },
    {
      "cell_type": "code",
      "metadata": {
        "id": "xaNT3tamk67s"
      },
      "source": [
        "from sklearn.metrics import roc_curve\r\n",
        "\r\n",
        "fpr, tpr, threshold = roc_curve(y_train_5, y_scores)"
      ],
      "execution_count": null,
      "outputs": []
    },
    {
      "cell_type": "markdown",
      "metadata": {
        "id": "ARPj-4n4wzb-"
      },
      "source": [
        "먼저 위 처럼 roc_curve() 함수를 이용해 여러 임곗값에서 TPR과 FPR을 계산한다."
      ]
    },
    {
      "cell_type": "code",
      "metadata": {
        "id": "aa1AAlh-wuwS",
        "colab": {
          "base_uri": "https://localhost:8080/",
          "height": 265
        },
        "outputId": "e702bda0-1ecd-4744-cbd2-bc569110b946"
      },
      "source": [
        "def plot_roc_curve(fpr, tpr, label=None):\r\n",
        "  plt.plot(fpr, tpr, linewidth=2, label=label)\r\n",
        "  plt.plot([0,1], [0,1], 'k--')     # 대각 점선\r\n",
        "\r\n",
        "plot_roc_curve(fpr, tpr)\r\n",
        "plt.show()"
      ],
      "execution_count": null,
      "outputs": [
        {
          "output_type": "display_data",
          "data": {
            "image/png": "[encoded data removed]",
            "text/plain": [
              "<Figure size 432x288 with 1 Axes>"
            ]
          },
          "metadata": {
            "tags": [],
            "needs_background": "light"
          }
        }
      ]
    },
    {
      "cell_type": "markdown",
      "metadata": {
        "id": "9wSdshlNx1ic"
      },
      "source": [
        "ROC curve에서도 트레이드오프가 있다. 재현율(TPR)이 높을수록 분류기가 만드는 거짓 양성(FPR)이 늘어난다. **점선은 완전한 랜덤 분류기의 ROC 곡선을 뜻한다.**   좋은 분류기는 이 점선에서 최대한 멀리 떨어져 있어야 한다. 여기서 **곡선 아래 면적(Area under the curve, AUC)을 측정하면 분류기들을 비교할 수 있다. ROC의 AUC가 1이랑 가까울 수록 완벽한 분류기이다. 사이킷런에서 ROC의 AUC를 계산하는 함수를 제공한다."
      ]
    },
    {
      "cell_type": "code",
      "metadata": {
        "id": "XdN_zBuvxdaB",
        "colab": {
          "base_uri": "https://localhost:8080/"
        },
        "outputId": "8bf2cbf8-39e2-42e0-b5bd-0ac0968a1a6e"
      },
      "source": [
        "from sklearn.metrics import roc_auc_score\r\n",
        "roc_auc_score(y_train_5, y_scores)"
      ],
      "execution_count": null,
      "outputs": [
        {
          "output_type": "execute_result",
          "data": {
            "text/plain": [
              "0.9604938554008616"
            ]
          },
          "metadata": {
            "tags": []
          },
          "execution_count": 27
        }
      ]
    },
    {
      "cell_type": "markdown",
      "metadata": {
        "id": "0ai0qcNszmJQ"
      },
      "source": [
        "RandomForestClassifier를 훈련시켜 SGDClassifier의 ROC 곡선과 ROC AUC 점수를 비교해보자. 먼저 훈련 세트의 샘플에 대한 점수를 얻어야 하지만, RandomForestClassifier에는 dicision_function()이 없다. 대신 predict_proba() 메서드가 있으므로 이를 사용한다.   \r\n",
        "predict_proba()는 샘플이 행, 클래스가 열이고 샘플이 주어진 클래스에 속할 확률을 담은 배열을 반환한다. (예를 들어 어떤 이미지가 5일 확률 70%)"
      ]
    },
    {
      "cell_type": "code",
      "metadata": {
        "id": "XC2gSgN_zEyS"
      },
      "source": [
        "from sklearn.ensemble import RandomForestClassifier\r\n",
        "\r\n",
        "forest_clf = RandomForestClassifier(random_state=42)          # 랜덤포레스트 객체\r\n",
        "y_probas_forest = cross_val_predict(forest_clf, X_train, y_train_5, cv=3, method=\"predict_proba\")     # method : predict_proba"
      ],
      "execution_count": null,
      "outputs": []
    },
    {
      "cell_type": "markdown",
      "metadata": {
        "id": "6enOBeEC1obr"
      },
      "source": [
        "roc_curve() 함수는 레이블과 점수를 기대하지만, 점수 대신에 클래스 확률을 전달할 수 있다. 양성 클래스 확률을 점수로 사용해보자."
      ]
    },
    {
      "cell_type": "code",
      "metadata": {
        "id": "eHClKChV2hMO",
        "colab": {
          "base_uri": "https://localhost:8080/"
        },
        "outputId": "de4a5e9a-a674-441a-f7d0-d6cd05355ab9"
      },
      "source": [
        "y_probas_forest[:, :]       # 다음 코드에 사용할 probas_forest의 배열을 확인하기 위함 -> 첫 번째 열 음성 클래스 확률, 두 번째 열 양성 클래스 확률"
      ],
      "execution_count": null,
      "outputs": [
        {
          "output_type": "execute_result",
          "data": {
            "text/plain": [
              "array([[0.11, 0.89],\n",
              "       [0.99, 0.01],\n",
              "       [0.96, 0.04],\n",
              "       ...,\n",
              "       [0.02, 0.98],\n",
              "       [0.92, 0.08],\n",
              "       [0.94, 0.06]])"
            ]
          },
          "metadata": {
            "tags": []
          },
          "execution_count": 29
        }
      ]
    },
    {
      "cell_type": "code",
      "metadata": {
        "id": "bOIyaQRq03Ys"
      },
      "source": [
        "y_scores_forest = y_probas_forest[:, 1]         # 양성 클래스에 대한 확률을 점수로 사용한다.\r\n",
        "fpr_forest, tpr_forest, threshold_forest = roc_curve(y_train_5, y_scores_forest)"
      ],
      "execution_count": null,
      "outputs": []
    },
    {
      "cell_type": "code",
      "metadata": {
        "id": "czx3egjP3NNJ",
        "colab": {
          "base_uri": "https://localhost:8080/",
          "height": 265
        },
        "outputId": "9a8c3167-e4cc-466b-8d00-e867b150b429"
      },
      "source": [
        "plt.plot(fpr, tpr, \"b:\", label=\"SGD\")                   # 비교를 위해 SGD의 ROC 곡선도 같이 그림\r\n",
        "plot_roc_curve(fpr_forest, tpr_forest, \"RandomForest\") # 랜덤포레스트의 ROC 곡선\r\n",
        "plt.legend(loc=\"lower right\")                           # 범례의 위치 설정\r\n",
        "plt.show()"
      ],
      "execution_count": null,
      "outputs": [
        {
          "output_type": "display_data",
          "data": {
            "image/png": "[encoded data removed]",
            "text/plain": [
              "<Figure size 432x288 with 1 Axes>"
            ]
          },
          "metadata": {
            "tags": [],
            "needs_background": "light"
          }
        }
      ]
    },
    {
      "cell_type": "markdown",
      "metadata": {
        "id": "YT3d0-VH5bmK"
      },
      "source": [
        "위의 결과와 같이 랜덤포레스트 분류기가 SGD 분류기보다 훨씬 좋아보인다. 당연하겠지만 AUC를 구해봐도 더 좋을 것이다. "
      ]
    },
    {
      "cell_type": "code",
      "metadata": {
        "id": "I2e9Jmpc4S5z",
        "colab": {
          "base_uri": "https://localhost:8080/"
        },
        "outputId": "8d235fcf-e3c9-47dc-9aed-169adbd4d2e4"
      },
      "source": [
        "print(roc_auc_score(y_train_5, y_scores_forest))"
      ],
      "execution_count": null,
      "outputs": [
        {
          "output_type": "stream",
          "text": [
            "0.9983436731328145\n"
          ],
          "name": "stdout"
        }
      ]
    },
    {
      "cell_type": "markdown",
      "metadata": {
        "id": "jDBVORkMCNX0"
      },
      "source": [
        "## 3.4 다중 분류\r\n",
        "이진 분류가 두 개의 클래스를 구별하는 반면 다중 분류기(Multiclass classifier)는 말 그대로 둘 이상의 클래스를 구별할 수 있다.  \r\n",
        "\r\n",
        " **하지만 이진 분류기를 여러 개 사용해 다중 클래스를 분류하는 기법도 많다.**\r\n",
        "\r\n",
        "예를 들어 특징 숫자 하나만 구분하는 숫자별 이진 분류기를 10개 훈련 시켜, 클래스가 10개인 숫자 이미지 분류 시스템을 만들 수 있다. \r\n",
        " - OvR(One-versus-the-Rest) or OvA(One-versus-All) : 이미지를 결정할 때 각 분류기의 결정 점수 중에서 가장 높은 것을 클래스로 선택 \r\n",
        " - OvO(One-versus-one) : 각 숫자의 조합마다 이진 분류기를 훈련(0과 1 구별, 0과 2 구별, 1과 2 구별)  \r\n",
        "\r\n",
        " \r\n",
        " OvO는 클래스가 N개라면 분류기는 $N\\times(N-1)/2$개가 필요하다. 즉 MNIST 문제에서는 45개의 분류기를 훈련시켜야 한다. OvO의 장점은 각 분류기의 훈련 데이터 중 두 클래스에 해당하는 샘플만 필요하다는 것이다.   \r\n",
        "일부 모델들은 훈련 데이터 크기에 민감하여 많은 데이터를 몇 개의 분류기로 훈련하는 것보다 적은 훈련 데이터를 많은 분류기로 훈련하는게 빠르므로 OvO를 선호한다. 하지만 대부분의 이진 분류 알고리즘에서는 OvR을 선호한다. "
      ]
    },
    {
      "cell_type": "code",
      "metadata": {
        "id": "tGzDtTevNxN5",
        "colab": {
          "base_uri": "https://localhost:8080/"
        },
        "outputId": "a0cf6565-9584-40d6-8c03-b45d5f338ff5"
      },
      "source": [
        "# 서포트백터머신 분류기 테스트\r\n",
        "from sklearn.svm import SVC\r\n",
        "\r\n",
        "svm_clf = SVC()\r\n",
        "svm_clf.fit(X_train, y_train)     # y_train_5가 아니고, y_train을 사용한다.\r\n",
        "svm_clf.predict([some_digit])     # X[0] 예측"
      ],
      "execution_count": null,
      "outputs": [
        {
          "output_type": "execute_result",
          "data": {
            "text/plain": [
              "array([5], dtype=int8)"
            ]
          },
          "metadata": {
            "tags": []
          },
          "execution_count": 33
        }
      ]
    },
    {
      "cell_type": "markdown",
      "metadata": {
        "id": "swdAWiORcHVI"
      },
      "source": [
        "위 처럼 다중 클래스 분류 작업에 이진 분류 알고리즘을 선택하면 사이킷런이 알고리즘에 따라 자동으로 OvR 또는 OvO를 실행한다. 내부에서 사이킷런이 OvO 전략을 사용해 45개의 이진 분류기를 훈련시키고 각가의 결정 점수를 얻어 점수가 가장 높은 클래스를 선택한다."
      ]
    },
    {
      "cell_type": "code",
      "metadata": {
        "id": "7t8eowbrOImw",
        "colab": {
          "base_uri": "https://localhost:8080/"
        },
        "outputId": "4dcb8d82-7d2e-492e-9784-79fc2ffdfd71"
      },
      "source": [
        "some_digit_scores = svm_clf.decision_function([some_digit])       #decision_function을 이용해 결정 점수를 확인.\r\n",
        "some_digit_scores"
      ],
      "execution_count": null,
      "outputs": [
        {
          "output_type": "execute_result",
          "data": {
            "text/plain": [
              "array([[ 1.72501977,  2.72809088,  7.2510018 ,  8.3076379 , -0.31087254,\n",
              "         9.3132482 ,  1.70975103,  2.76765202,  6.23049537,  4.84771048]])"
            ]
          },
          "metadata": {
            "tags": []
          },
          "execution_count": 34
        }
      ]
    },
    {
      "cell_type": "markdown",
      "metadata": {
        "id": "Y3-91DLqeJFq"
      },
      "source": [
        "위 처럼 decision_functuin() 메서드를 호출하면 샘플 당 10개의 점수를 반환하고, 이 점수는 클래스마다 하나씩이다. 가장 높은 점수가 클래스 5에 해당하는 값이다. "
      ]
    },
    {
      "cell_type": "code",
      "metadata": {
        "colab": {
          "base_uri": "https://localhost:8080/"
        },
        "id": "d50LZd2tdbYH",
        "outputId": "899fd042-6b36-481b-e2bf-52d561688da2"
      },
      "source": [
        "print(np.argmax(some_digit_scores))\r\n",
        "print(svm_clf.classes_)\r\n",
        "print(svm_clf.classes_[5])    # 5번 째 인덱스"
      ],
      "execution_count": null,
      "outputs": [
        {
          "output_type": "stream",
          "text": [
            "5\n",
            "[0 1 2 3 4 5 6 7 8 9]\n",
            "5\n"
          ],
          "name": "stdout"
        }
      ]
    },
    {
      "cell_type": "markdown",
      "metadata": {
        "id": "w-ma_75yfjtP"
      },
      "source": [
        "사이킷런에서 OvO나 OvR을 사용하도록 강제하려면 OneVsOneClassifier나 OneVsRestClassifier를 사용한다."
      ]
    },
    {
      "cell_type": "code",
      "metadata": {
        "id": "CRKeisZ8e4cQ",
        "colab": {
          "base_uri": "https://localhost:8080/"
        },
        "outputId": "0f594f7d-8cf2-4213-cdcd-27b17a4f64c0"
      },
      "source": [
        "from sklearn.multiclass import OneVsRestClassifier\r\n",
        "ovr_clf = OneVsRestClassifier(SVC())\r\n",
        "ovr_clf.fit(X_train, y_train)\r\n",
        "print(ovr_clf.predict([some_digit]))\r\n",
        "len(ovr_clf.estimators_)          # estimator : 클래스 수 반환."
      ],
      "execution_count": null,
      "outputs": [
        {
          "output_type": "stream",
          "text": [
            "[9]\n"
          ],
          "name": "stdout"
        },
        {
          "output_type": "execute_result",
          "data": {
            "text/plain": [
              "10"
            ]
          },
          "metadata": {
            "tags": []
          },
          "execution_count": 53
        }
      ]
    },
    {
      "cell_type": "markdown",
      "metadata": {
        "id": "3FU0eT3FlEC-"
      },
      "source": [
        "SGD 분류기나, 랜덤포레스트 분류기 또한 훈련시키는 것이 간단하다. 이런 경우 SGD 분류기는 직접 샘플을 다중 클래스로 분류할 수 있기 때문에 별도로 OvR이나 OvO를 적용할 필요가 없다. "
      ]
    },
    {
      "cell_type": "code",
      "metadata": {
        "id": "Cm82gtQ0jvXP",
        "colab": {
          "base_uri": "https://localhost:8080/"
        },
        "outputId": "7d7189b2-d292-4b24-f37d-0f11e3074939"
      },
      "source": [
        "sgd_clf.fit(X_train, y_train)       # SGDclassifier training   타깃을 각 10번 훈련\r\n",
        "sgd_clf.predict([some_digit])"
      ],
      "execution_count": null,
      "outputs": [
        {
          "output_type": "execute_result",
          "data": {
            "text/plain": [
              "array([3], dtype=int8)"
            ]
          },
          "metadata": {
            "tags": []
          },
          "execution_count": 37
        }
      ]
    },
    {
      "cell_type": "code",
      "metadata": {
        "id": "WLkq76G2o9Po",
        "colab": {
          "base_uri": "https://localhost:8080/"
        },
        "outputId": "20ccfd6d-28a4-46cd-d47a-fa18992c78f3"
      },
      "source": [
        "sgd_clf.decision_function([some_digit])       # 클래스마다 부여한 점수 확인"
      ],
      "execution_count": null,
      "outputs": [
        {
          "output_type": "execute_result",
          "data": {
            "text/plain": [
              "array([[-31893.03095419, -34419.69069632,  -9530.63950739,\n",
              "          1823.73154031, -22320.14822878,  -1385.80478895,\n",
              "        -26188.91070951, -16147.51323997,  -4604.35491274,\n",
              "        -12050.767298  ]])"
            ]
          },
          "metadata": {
            "tags": []
          },
          "execution_count": 38
        }
      ]
    },
    {
      "cell_type": "markdown",
      "metadata": {
        "id": "gnf4MHyGiwuN"
      },
      "source": [
        "이 결과에서 예측 결과에 강한 확신을 보이고 있음을 확인할 수 있다. 대 부분의 점수가 음수지만 클래스 5의 점수는 2412.5이기 때문이다.  \r\n",
        "이제 분류기를 평가하기 위해 cross_val_score() 함수를 사용해보자."
      ]
    },
    {
      "cell_type": "code",
      "metadata": {
        "colab": {
          "base_uri": "https://localhost:8080/"
        },
        "id": "knTrbCBRnMyB",
        "outputId": "934fef1f-5419-472d-c853-e7043f305a52"
      },
      "source": [
        "cross_val_score(sgd_clf, X_train, y_train, cv=3, scoring=\"accuracy\")    # SGD 모델 3번의 교차 검증"
      ],
      "execution_count": null,
      "outputs": [
        {
          "output_type": "execute_result",
          "data": {
            "text/plain": [
              "array([0.87365, 0.85835, 0.8689 ])"
            ]
          },
          "metadata": {
            "tags": []
          },
          "execution_count": 39
        }
      ]
    },
    {
      "cell_type": "markdown",
      "metadata": {
        "id": "y5ZItDu-zMlA"
      },
      "source": [
        "2장에서 본 스케일링을 통해 성능을 높일 수 있다. "
      ]
    },
    {
      "cell_type": "code",
      "metadata": {
        "colab": {
          "base_uri": "https://localhost:8080/"
        },
        "id": "HN8xAec4xU_H",
        "outputId": "f3f3a49b-7c04-4931-f042-6f81d2727b27"
      },
      "source": [
        "from sklearn.preprocessing import StandardScaler            #  표준화 사이킷런 라이브러리 StandardScaler로 스케일 조정\r\n",
        "scaler = StandardScaler()\r\n",
        "X_train_scaled = scaler.fit_transform(X_train.astype(np.float64))\r\n",
        "cross_val_score(sgd_clf, X_train_scaled, y_train, cv=3, scoring=\"accuracy\")"
      ],
      "execution_count": null,
      "outputs": [
        {
          "output_type": "execute_result",
          "data": {
            "text/plain": [
              "array([0.8983, 0.891 , 0.9018])"
            ]
          },
          "metadata": {
            "tags": []
          },
          "execution_count": 40
        }
      ]
    },
    {
      "cell_type": "markdown",
      "metadata": {
        "id": "Vp8qBYDoo1S6"
      },
      "source": [
        "## 3.5 에러 분석\r\n",
        "이렇게 해서 좋은 모델을 선정했을때 모델의 성능을 더 향상시키기 위해 에러의 종류를 분석한다. 먼저 오차 행렬, 즉  Confusion Matrix를 먼저 살펴 본다. "
      ]
    },
    {
      "cell_type": "code",
      "metadata": {
        "colab": {
          "base_uri": "https://localhost:8080/"
        },
        "id": "DMXMW-tWppFR",
        "outputId": "68ba5719-ed64-493f-c648-4af943695cf4"
      },
      "source": [
        "y_train_pred = cross_val_predict(sgd_clf, X_train_scaled, y_train, cv=3)      # 예측 값 생성\r\n",
        "conf_mx = confusion_matrix(y_train, y_train_pred)           # 실제 타깃과 예측 값 비교\r\n",
        "conf_mx"
      ],
      "execution_count": null,
      "outputs": [
        {
          "output_type": "execute_result",
          "data": {
            "text/plain": [
              "array([[5577,    0,   22,    5,    8,   43,   36,    6,  225,    1],\n",
              "       [   0, 6400,   37,   24,    4,   44,    4,    7,  212,   10],\n",
              "       [  27,   27, 5220,   92,   73,   27,   67,   36,  378,   11],\n",
              "       [  22,   17,  117, 5227,    2,  203,   27,   40,  403,   73],\n",
              "       [  12,   14,   41,    9, 5182,   12,   34,   27,  347,  164],\n",
              "       [  27,   15,   30,  168,   53, 4444,   75,   14,  535,   60],\n",
              "       [  30,   15,   42,    3,   44,   97, 5552,    3,  131,    1],\n",
              "       [  21,   10,   51,   30,   49,   12,    3, 5684,  195,  210],\n",
              "       [  17,   63,   48,   86,    3,  126,   25,   10, 5429,   44],\n",
              "       [  25,   18,   30,   64,  118,   36,    1,  179,  371, 5107]])"
            ]
          },
          "metadata": {
            "tags": []
          },
          "execution_count": 41
        }
      ]
    },
    {
      "cell_type": "code",
      "metadata": {
        "colab": {
          "base_uri": "https://localhost:8080/",
          "height": 275
        },
        "id": "7-vRcDTzqjeE",
        "outputId": "fb475df4-e520-43ef-afee-96e4280e49f3"
      },
      "source": [
        "plt.matshow(conf_mx, cmap=plt.cm.gray)        # matplotlib의 함수 사용\r\n",
        "plt.show()"
      ],
      "execution_count": null,
      "outputs": [
        {
          "output_type": "display_data",
          "data": {
            "image/png": "[encoded data removed]",
            "text/plain": [
              "<Figure size 288x288 with 1 Axes>"
            ]
          },
          "metadata": {
            "tags": [],
            "needs_background": "light"
          }
        }
      ]
    },
    {
      "cell_type": "markdown",
      "metadata": {
        "id": "QJKxgOyeqgOx"
      },
      "source": [
        "위 결과를 보면 이미지가 올바르게 분류되었음을 나타내는 주대각선을 확인할 수 있는데, 매우 잘 분류된 것을 확인할 수 있다. 하지만 숫자 5는 다른 숫자보다 조금 더 어두워 보이는데, 이는 데이터셋에 숫자 5의 이미지가 적거나 잘 분류를 못했다는 뜻이므로, 두 경우에 대해 모두 확인해봐야 한다. "
      ]
    },
    {
      "cell_type": "code",
      "metadata": {
        "id": "km8iunVJrwIg"
      },
      "source": [
        "row_sums = conf_mx.sum(axis=1, keepdims=True)       \r\n",
        "norm_conf_mx = conf_mx / row_sums                   # 각 원소를 행별로 모두 더한 값으로 나눔."
      ],
      "execution_count": null,
      "outputs": []
    },
    {
      "cell_type": "code",
      "metadata": {
        "colab": {
          "base_uri": "https://localhost:8080/",
          "height": 275
        },
        "id": "UQoI4hYztkiG",
        "outputId": "dad93331-9f0f-47d6-e368-301b04295907"
      },
      "source": [
        "np.fill_diagonal(norm_conf_mx, 0)                   # np.fill_diagonal() : 행렬의 대각원소를 입력 값으로 대체해주는 함수\r\n",
        "plt.matshow(norm_conf_mx, cmap=plt.cm.gray)\r\n",
        "plt.show()"
      ],
      "execution_count": null,
      "outputs": [
        {
          "output_type": "display_data",
          "data": {
            "image/png": "[encoded data removed]",
            "text/plain": [
              "<Figure size 288x288 with 1 Axes>"
            ]
          },
          "metadata": {
            "tags": [],
            "needs_background": "light"
          }
        }
      ]
    },
    {
      "cell_type": "markdown",
      "metadata": {
        "id": "bYgKOm-NvDQq"
      },
      "source": [
        "여기서 우리는 많은 정보를 찾을 수 있다. 행은 실제 클래스를 나타내고, 열은 예측한 클래스를 나타내는 사실을 상기시키고 살펴보자.   \r\n",
        "클래스 8의 열이 상당히 밝으므로 많은 이미지가 8로 잘못 분류되었음을 암시한다. 하지만 클래스 8의 행은 그리 나쁘지 않다. 여기서 볼 수 있듯이 오차 행렬은 반드시 대칭이 아니다. 3과 5가 서로 많이 혼동되고 있는 것도 확인할 수 있다. \r\n",
        "\r\n",
        "\r\n"
      ]
    },
    {
      "cell_type": "markdown",
      "metadata": {
        "id": "cHRioYdzv1cm"
      },
      "source": [
        "\r\n",
        "**위의 결과로 8로 잘못 분류되는 것을 줄이도록 개선할 필요가 있다. 예를 들어 8처럼 보이지만 실제로는 아닌 데이터를 더 훈련시키거나, 분류기에 도움 될 만한 특성을 더 찾아볼 수 있다. 예를 들어 동심원의 수(8은 2개, 6은 1개, 5는 0개)를 세거나, 어떤 패턴이 드러나도록(skikit-Image, Pillow, OpenCV) 이미지를 전처리해볼 수 있다.**\r\n",
        "\r\n",
        "이런식으로 에러를 세밀하게 분석하면 분류기가 무슨 일을하고, 왜 잘못되었는지 통찰을 얻을 수 있지만, 더 어렵고 시간이 오래걸린다. \r\n"
      ]
    },
    {
      "cell_type": "code",
      "metadata": {
        "id": "3zNo8jCy6sZW"
      },
      "source": [
        "# 아래 코드에서 plot_digits is not defined 에러\r\n",
        "def plot_digits(instances, images_per_row=10, **options):\r\n",
        "    size = 28\r\n",
        "    images_per_row = min(len(instances), images_per_row)\r\n",
        "    images = [instance.reshape(size,size) for instance in instances]\r\n",
        "    n_rows = (len(instances) - 1) // images_per_row + 1\r\n",
        "    row_images = []\r\n",
        "    n_empty = n_rows * images_per_row - len(instances)\r\n",
        "    images.append(np.zeros((size, size * n_empty)))\r\n",
        "    for row in range(n_rows):\r\n",
        "        rimages = images[row * images_per_row : (row + 1) * images_per_row]\r\n",
        "        row_images.append(np.concatenate(rimages, axis=1))\r\n",
        "    image = np.concatenate(row_images, axis=0)\r\n",
        "    plt.imshow(image, cmap = matplotlib.cm.binary, **options)\r\n",
        "    plt.axis(\"off\")"
      ],
      "execution_count": null,
      "outputs": []
    },
    {
      "cell_type": "code",
      "metadata": {
        "colab": {
          "base_uri": "https://localhost:8080/",
          "height": 466
        },
        "id": "Lx1Vi5obtwLK",
        "outputId": "ce76368e-4d43-47cd-ef90-b8887e3e5bd3"
      },
      "source": [
        "import matplotlib\r\n",
        "\r\n",
        "cl_a, cl_b = 3, 5\r\n",
        "X_aa = X_train[(y_train == cl_a) & (y_train_pred == cl_a)]        # 실제 타깃이 3이고, 예측 값도 3\r\n",
        "X_ab = X_train[(y_train == cl_a) & (y_train_pred == cl_b)]        # 실제 타깃이 3이지만, 예측값은 5\r\n",
        "X_ba = X_train[(y_train == cl_b) & (y_train_pred == cl_a)]        # 실제 타깃은 5이지만, 예측값은 3\r\n",
        "X_bb = X_train[(y_train == cl_b) & (y_train_pred == cl_b)]        # 실제 타깃은 5이고, 예측 값도 5\r\n",
        "\r\n",
        "plt.figure(figsize=(8,8))\r\n",
        "plt.subplot(221); plot_digits(X_aa[:25], images_per_row=5)\r\n",
        "plt.subplot(222); plot_digits(X_ab[:25], images_per_row=5)\r\n",
        "plt.subplot(223); plot_digits(X_ba[:25], images_per_row=5)\r\n",
        "plt.subplot(224); plot_digits(X_bb[:25], images_per_row=5)\r\n",
        "plt.show()"
      ],
      "execution_count": null,
      "outputs": [
        {
          "output_type": "display_data",
          "data": {
            "image/png": "[encoded data removed]",
            "text/plain": [
              "<Figure size 576x576 with 4 Axes>"
            ]
          },
          "metadata": {
            "tags": [],
            "needs_background": "light"
          }
        }
      ]
    },
    {
      "cell_type": "markdown",
      "metadata": {
        "id": "tXdIrmkz1XGO"
      },
      "source": [
        "2번 째, 3번 째 이미지가 잘 못 분류한 숫자이다. 몇몇은 정말 알아보기 힘든 숫자이기도 하지만, 대부분은 확실히 에러로 잘못 분류된 이미지처럼 보인다.  \r\n",
        "**그 이유는 선형 모델인 SGDClassifier를 사용했기 때문이다. 선형 분류기는 픽셀에 가중치를 할당하고 새로운 이미지에 대해 단순히 픽셀 강도의 가중치 합을 클래스의 점수로 계산한다.(각 이미지의 가중치 점수 반환) 따라서 3과 5는 몇 개의 픽셀만 다르기 때문에 쉽게 혼동한다.**  \r\n",
        "특히 이런 부분에서 분류기는 이미지의 위치나 회전 방향에 매우 민감하기 때문에 에러를 줄이는 한 가지 방법은 이미지를 중앙에 위치시키고, 회전되어 있지 않도록 전처리하는 것이다. "
      ]
    },
    {
      "cell_type": "markdown",
      "metadata": {
        "id": "pfoDvDnD2yCf"
      },
      "source": [
        "## 3.6 다중 레이블 분류\r\n",
        "지금 까지는 각 샘플이 하나의 클래스에만 할당되었다. 하지만 얼굴 인식 분류기에서 여러 사람의 tag를 붙여야 하는 등의 경우 때문에 다중 레이블 분류(Multilabel Classifier) 시스템은 중요하다. "
      ]
    },
    {
      "cell_type": "code",
      "metadata": {
        "colab": {
          "base_uri": "https://localhost:8080/"
        },
        "id": "L22u9WSx5zkh",
        "outputId": "702fb310-b81f-4ef6-fab2-ff40ad721e62"
      },
      "source": [
        "from sklearn.neighbors import KNeighborsClassifier\r\n",
        "\r\n",
        "y_train_large = (y_train >= 7)          # 7,8,9 인 레이블 1\r\n",
        "y_train_odd = (y_train % 2 ==1)         # 숫자가 홀수인 레이블 2\r\n",
        "y_multilabel = np.c_[y_train_large, y_train_odd]      # 두개의 레이블을 넣은 다중 레이블 배열  np.c_ : 두개의 1차원 배열을 칼럼으로 붙여 2차원 배열 만듦.\r\n",
        "\r\n",
        "knn_clf = KNeighborsClassifier()          # knn 분류기 객체 생성(다중 레이블 분류 지원)\r\n",
        "knn_clf.fit(X_train, y_multilabel)"
      ],
      "execution_count": null,
      "outputs": [
        {
          "output_type": "execute_result",
          "data": {
            "text/plain": [
              "KNeighborsClassifier(algorithm='auto', leaf_size=30, metric='minkowski',\n",
              "                     metric_params=None, n_jobs=None, n_neighbors=5, p=2,\n",
              "                     weights='uniform')"
            ]
          },
          "metadata": {
            "tags": []
          },
          "execution_count": 47
        }
      ]
    },
    {
      "cell_type": "code",
      "metadata": {
        "colab": {
          "base_uri": "https://localhost:8080/"
        },
        "id": "qSAwG5R7-8Kd",
        "outputId": "6075d888-a256-4ef7-aef4-2b7239bd4290"
      },
      "source": [
        "knn_clf.predict([some_digit])     # 5는 7보다 작지만, 홀수"
      ],
      "execution_count": null,
      "outputs": [
        {
          "output_type": "execute_result",
          "data": {
            "text/plain": [
              "array([[False,  True]])"
            ]
          },
          "metadata": {
            "tags": []
          },
          "execution_count": 48
        }
      ]
    },
    {
      "cell_type": "markdown",
      "metadata": {
        "id": "QLt_TIFT_PFL"
      },
      "source": [
        "다중 레이블 분류기를 평가하는 방법은 많지만, 적절한 지표는 프로젝트에 따라 다르다. 각 레이블의 F1 점수를 구하고 간단하게 평균 점수를 계산해본다."
      ]
    },
    {
      "cell_type": "code",
      "metadata": {
        "colab": {
          "base_uri": "https://localhost:8080/"
        },
        "id": "-ynbOqyz_Ba2",
        "outputId": "8cd28893-6557-4718-ad33-9e66a9ceb6be"
      },
      "source": [
        "y_train_knn_pred = cross_val_predict(knn_clf, X_train, y_multilabel, cv=3)      # knn의 예측값을 구함.\r\n",
        "f1_score(y_multilabel, y_train_knn_pred, average=\"macro\")                       # macro 평균 : 모든 레이블의 가중치가 같다고 생각. \r\n",
        "                                                                                # average=\"weighted\" : 레이블에 속한 샘플 수로 가중치를 둚."
      ],
      "execution_count": null,
      "outputs": [
        {
          "output_type": "execute_result",
          "data": {
            "text/plain": [
              "0.976410265560605"
            ]
          },
          "metadata": {
            "tags": []
          },
          "execution_count": 49
        }
      ]
    },
    {
      "cell_type": "markdown",
      "metadata": {
        "id": "8I_9KotuAQLB"
      },
      "source": [
        "## 3.7 다중 출력 분류\r\n",
        " 마지막으로 다중 레이블 분류에서 한 레이블이 다중 클래스가 될 수 있도록 일반화하는 것인 다중 출력 다중 클래스 분류(Multioutput-multiclass classification) 또는 간단히 다중 출력 분류(Multioutput classification)을 살펴본다."
      ]
    },
    {
      "cell_type": "markdown",
      "metadata": {
        "id": "O9ui71j4EB2g"
      },
      "source": [
        "노이즈가 많은 이미지를 입력으로 받아, 깨끗한 숫자 이미지를 MNIST 이미지 데이터 처럼 픽셀의 정도를 담은 배열로 출력해보자.\r\n",
        "\r\n",
        "여기서 다중 출력의 의미는 노이즈 제거의 목적으로 한 픽셀당 한 레이블이 0~255이기 때문에 각 레이블은 여러개의 값을 가지게 되기 때문이다.\r\n",
        "\r\n"
      ]
    },
    {
      "cell_type": "code",
      "metadata": {
        "id": "ETAlOZzG_t6I"
      },
      "source": [
        "noise = np.random.randint(0, 100, (len(X_train), 784))        #numpy.random.randint(low, high=, size=(데이터셋크기, 28x28))\r\n",
        "X_train_mod = X_train + noise                 # noise가 낀 X_train\r\n",
        "noise = np.random.randint(0, 100, (len(X_test), 784))\r\n",
        "X_test_mod = X_test + noise                   # noise가 낀 X_test\r\n",
        "y_train_mod = X_train                         # 타깃은 원본으로.\r\n",
        "y_test_mod = X_test\r\n",
        "\r\n",
        "some_index = 36000        \r\n",
        "some_digit_noise = X_train_mod[some_index]            # 36000번 데이터셋(노이즈 있음)\r\n",
        "some_digit_noise_img = some_digit_noise.reshape(28,28)\r\n",
        "some_digit = X_train[some_index]                      # 노이즈 없는 데이터\r\n",
        "some_digit_img = some_digit.reshape(28,28)"
      ],
      "execution_count": null,
      "outputs": []
    },
    {
      "cell_type": "code",
      "metadata": {
        "colab": {
          "base_uri": "https://localhost:8080/",
          "height": 248
        },
        "id": "eZww_2pLCucC",
        "outputId": "8b1dc4d3-ca14-4bf9-e2d2-819a038471c7"
      },
      "source": [
        "plt.imshow(some_digit_noise_img, cmap=matplotlib.cm.binary)  #노이즈 낀 36000번 인덱스 데이터 출력, 흑백, \r\n",
        "plt.axis(\"off\")     # matplotlib에 축 제거\r\n",
        "plt.show()"
      ],
      "execution_count": null,
      "outputs": [
        {
          "output_type": "display_data",
          "data": {
            "image/png": "[encoded data removed]",
            "text/plain": [
              "<Figure size 432x288 with 1 Axes>"
            ]
          },
          "metadata": {
            "tags": [],
            "needs_background": "light"
          }
        }
      ]
    },
    {
      "cell_type": "code",
      "metadata": {
        "colab": {
          "base_uri": "https://localhost:8080/",
          "height": 248
        },
        "id": "Ju354cXdFrRq",
        "outputId": "8ddddb7c-f3b0-4f7a-d158-3ee850e9222d"
      },
      "source": [
        "knn_clf.fit(X_train_mod, y_train_mod)                       # 노이즈 낀 X_train과 원본 타깃을 훈련\r\n",
        "clean_digit = knn_clf.predict([X_train_mod[some_index]])\r\n",
        "\r\n",
        "plt.imshow(clean_digit.reshape(28,28), cmap=matplotlib.cm.binary)\r\n",
        "plt.axis(\"off\")\r\n",
        "plt.show()"
      ],
      "execution_count": null,
      "outputs": [
        {
          "output_type": "display_data",
          "data": {
            "image/png": "[encoded data removed]",
            "text/plain": [
              "<Figure size 432x288 with 1 Axes>"
            ]
          },
          "metadata": {
            "tags": [],
            "needs_background": "light"
          }
        }
      ]
    }
  ]
}